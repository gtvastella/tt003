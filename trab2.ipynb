{
 "cells": [
  {
   "cell_type": "code",
   "execution_count": 1999,
   "metadata": {},
   "outputs": [],
   "source": [
    "import urllib.request\n",
    "url = \"https://raw.githubusercontent.com/ulissesdias/tt003/main/libraries/breakthrough.py\"\n",
    "urllib.request.urlretrieve(url, \"breakthrough.py\")\n",
    "\n",
    "## Importando a biblioteca\n",
    "import breakthrough as bkt"
   ]
  },
  {
   "cell_type": "code",
   "execution_count": 2000,
   "metadata": {},
   "outputs": [
    {
     "data": {
      "image/png": "[encoded data removed]",
      "text/plain": [
       "<PIL.Image.Image image mode=RGB size=200x200>"
      ]
     },
     "metadata": {},
     "output_type": "display_data"
    }
   ],
   "source": [
    "lines = 4\n",
    "columns = 4\n",
    "white_positions = ((1,1),(1,2),(1,3),(1,4))\n",
    "black_positions = ((4,1),(4,2), (4,3),(4,4))\n",
    "\n",
    "board = bkt.draw_board(4,4,((1,1), (1,2),(1,3),(1,4)), ((4,1),(4,2),(4,3), (4,4)))\n",
    "display(board)"
   ]
  },
  {
   "cell_type": "code",
   "execution_count": 2001,
   "metadata": {},
   "outputs": [
    {
     "data": {
      "application/vnd.jupyter.widget-view+json": {
       "model_id": "ecd3fbeb770e47718148671e2f22f389",
       "version_major": 2,
       "version_minor": 0
      },
      "text/plain": [
       "interactive(children=(IntSlider(value=3, description='frame', max=7), Output()), _dom_classes=('widget-interac…"
      ]
     },
     "metadata": {},
     "output_type": "display_data"
    },
    {
     "data": {
      "text/plain": [
       "<function breakthrough.display_sequence.<locals>._show(frame=(0, 7))>"
      ]
     },
     "execution_count": 2001,
     "metadata": {},
     "output_type": "execute_result"
    }
   ],
   "source": [
    "player = bkt.random_player\n",
    "winner, history = bkt.game(player, player, lines, columns, white_positions, black_positions , epsilon = None)\n",
    "images = bkt.generate_image_history(4, 4, history)\n",
    "bkt.display_sequence(images)"
   ]
  },
  {
   "cell_type": "code",
   "execution_count": 2002,
   "metadata": {},
   "outputs": [],
   "source": [
    "def campeonato(player1, player2, num_games=1000):\n",
    "    whites = 0\n",
    "    blacks = 0\n",
    "    for i in range(num_games):\n",
    "        winner, history = bkt.game(player1, player2, lines, columns, white_positions, black_positions, epsilon=0.3)\n",
    "        if winner == 1:\n",
    "            whites += 1\n",
    "        else:\n",
    "            blacks += 1\n",
    "    return whites, blacks\n"
   ]
  },
  {
   "cell_type": "code",
   "execution_count": 2003,
   "metadata": {},
   "outputs": [
    {
     "name": "stdout",
     "output_type": "stream",
     "text": [
      "Percentage of wins for whites: 56.39999999999999%\n",
      "Percentage of wins for blacks: 43.6%\n"
     ]
    }
   ],
   "source": [
    "w, b = campeonato(player,player, num_games=1000)\n",
    "\n",
    "total_games = w + b\n",
    "w_percentage = (w / total_games) * 100\n",
    "b_percentage = (b / total_games) * 100\n",
    "\n",
    "print(f\"Percentage of wins for whites: {w_percentage}%\")\n",
    "print(f\"Percentage of wins for blacks: {b_percentage}%\")\n"
   ]
  },
  {
   "cell_type": "code",
   "execution_count": 2004,
   "metadata": {},
   "outputs": [],
   "source": [
    "def rewards(whitespos, blackspos, turn) :\n",
    "    winner = bkt.winner(lines=lines, columns=columns, white_positions= whitespos, black_positions=blackspos)\n",
    "\n",
    "    if winner == turn:\n",
    "        return 10\n",
    "    else:\n",
    "        return -10"
   ]
  },
  {
   "cell_type": "code",
   "execution_count": 2005,
   "metadata": {},
   "outputs": [],
   "source": [
    "import random\n",
    "import numpy as np\n",
    "## Para computação dos state_values, usaremos gamma = 0.7 para\n",
    "## descontos futuros\n",
    "gamma = 0.7\n",
    "\n",
    "## Os state_values serão uma variável global neste notebook. Nele\n",
    "## estará contido tudo aquilo que o agente precisa para fazer uma boa\n",
    "## jogada\n",
    "\n",
    "def novo_player(lines, columns, white_positions, black_positions, turn, epsilon=0.3) :\n",
    "    valid_moves = bkt.get_valid_moves(lines, columns, white_positions, black_positions, turn)\n",
    "    \n",
    "    if epsilon < 0.5 :\n",
    "        return valid_moves[0]\n",
    "    else :\n",
    "        return valid_moves[-1]\n",
    "    \n",
    "\n",
    "def player_rl(lines, columns, white_positions, black_positions, turn, epsilon):\n",
    "\n",
    "    valid_moves = bkt.get_valid_moves(lines, columns, white_positions, black_positions, turn)\n",
    "\n",
    "    \n",
    "    \n",
    "    epsilon_random = random.random()\n",
    "    \n",
    "    if epsilon_random < epsilon:\n",
    "        return random.choice(valid_moves)\n",
    "    else:\n",
    "        new_valid = np.array(valid_moves)\n",
    "        scores = []\n",
    "\n",
    "        for move in new_valid:\n",
    "\n",
    "            current = move[0]\n",
    "            next = move[1]\n",
    "            next_pos = white_positions if turn == 1 else black_positions\n",
    "            next_pos = np.array(next_pos)\n",
    "            index = np.where(np.all(next_pos == current, axis=1))[0][0]\n",
    "            next_pos[index] = next\n",
    "        \n",
    "            format = (turn, tuple(map(tuple, move)), black_positions) if turn == 1 else (turn, white_positions, tuple(map(tuple, move)))\n",
    "\n",
    "            rw = rewards(next_pos, black_positions, turn) if turn == 1 else rewards(white_positions, next_pos, turn)\n",
    "\n",
    "            scores.append(rw + gamma*state_values.get(format, 0))\n",
    "           \n",
    "\n",
    "      \n",
    "        \n",
    "        best_score = np.max(scores)\n",
    "        indices = np.where(scores == best_score)[0]\n",
    "       \n",
    "        return valid_moves[random.choice(indices)]"
   ]
  },
  {
   "cell_type": "code",
   "execution_count": 2006,
   "metadata": {},
   "outputs": [],
   "source": [
    "def update_state_values_monte_carlo(rewards, amostra, gamma = 0.3, alpha = 0.1) :\n",
    "    ## Definiremos o último state_value como zero para iniciar o processo iterativo.\n",
    "    discounted_return = 0\n",
    "    next_state        = amostra[-1]\n",
    "    ## Observe o uso de \"reversed\" estamos iterando de trás pra frente.\n",
    "    for state in reversed(amostra[:-1]) :\n",
    "       \n",
    "        discounted_return = gamma*discounted_return + rewards(next_state[1], next_state[2], next_state[0])\n",
    "      \n",
    "        ## Abaixo a fórmula para atualização dos state-values. Isso substitui o valor esperado (média).\n",
    "        ## Note que estamos inicializando os state_values com zero\n",
    "    \n",
    "        state_values[state] = state_values.get(state,0) + alpha*(discounted_return - state_values.get(state, 0))\n",
    "        next_state = state\n"
   ]
  },
  {
   "cell_type": "code",
   "execution_count": 2007,
   "metadata": {},
   "outputs": [],
   "source": [
    "state_values = {}\n",
    "alpha  = 0.1 ## Aproximação da média\n",
    "\n",
    "ITERACOES = 1000\n",
    "for i in range(ITERACOES) :\n",
    "  ep = max(0.01, (ITERACOES - i)/ITERACOES)\n",
    "  _, amostra = bkt.game(player_rl, player, lines, columns, white_positions, black_positions, epsilon = ep)\n",
    "\n",
    "  update_state_values_monte_carlo(rewards, amostra, gamma, alpha)\n",
    " \n",
    "\n"
   ]
  },
  {
   "cell_type": "code",
   "execution_count": 2008,
   "metadata": {},
   "outputs": [
    {
     "name": "stdout",
     "output_type": "stream",
     "text": [
      "Percentage of wins for player_rl (whites): 81.69999999999999%\n",
      "Percentage of wins for random player (blacks): 18.3%\n"
     ]
    }
   ],
   "source": [
    "\n",
    "w, b = campeonato(player_rl,bkt.random_player, num_games=1000)\n",
    "\n",
    "\n",
    "total_games = w + b\n",
    "w_percentage = (w / total_games) * 100\n",
    "b_percentage = (b / total_games) * 100\n",
    "\n",
    "print(f\"Percentage of wins for player_rl (whites): {w_percentage}%\")\n",
    "print(f\"Percentage of wins for random player (blacks): {b_percentage}%\")"
   ]
  },
  {
   "cell_type": "code",
   "execution_count": 2009,
   "metadata": {},
   "outputs": [
    {
     "name": "stdout",
     "output_type": "stream",
     "text": [
      "Percentage of wins for random player (whites): 35.6%\n",
      "Percentage of wins for player_rl (blacks): 64.4%\n"
     ]
    }
   ],
   "source": [
    "\n",
    "w, b = campeonato(bkt.random_player,player_rl,  num_games=1000)\n",
    "\n",
    "\n",
    "total_games = w + b\n",
    "w_percentage = (w / total_games) * 100\n",
    "b_percentage = (b / total_games) * 100\n",
    "\n",
    "print(f\"Percentage of wins for random player (whites): {w_percentage}%\")\n",
    "print(f\"Percentage of wins for player_rl (blacks): {b_percentage}%\")"
   ]
  },
  {
   "cell_type": "code",
   "execution_count": 2010,
   "metadata": {},
   "outputs": [
    {
     "data": {
      "application/vnd.jupyter.widget-view+json": {
       "model_id": "9346377055d946449dc5b930f5c51140",
       "version_major": 2,
       "version_minor": 0
      },
      "text/plain": [
       "interactive(children=(IntSlider(value=6, description='frame', max=13), Output()), _dom_classes=('widget-intera…"
      ]
     },
     "metadata": {},
     "output_type": "display_data"
    },
    {
     "data": {
      "text/plain": [
       "<function breakthrough.display_sequence.<locals>._show(frame=(0, 13))>"
      ]
     },
     "execution_count": 2010,
     "metadata": {},
     "output_type": "execute_result"
    }
   ],
   "source": [
    "winner, history = bkt.game(player_rl, bkt.random_player, lines, columns, white_positions, black_positions, epsilon=0.3)\n",
    "images = bkt.generate_image_history(4, 4, history)\n",
    "bkt.display_sequence(images)\n"
   ]
  },
  {
   "cell_type": "code",
   "execution_count": 2011,
   "metadata": {},
   "outputs": [],
   "source": [
    "def human_player(lines, columns, white_positions, black_positions, turn, epsilon) :\n",
    "    valids  = bkt.get_valid_moves(lines, columns, white_positions, black_positions, turn)\n",
    "    print(\"Escolha um movimento por ordem de apresentação a seguir, iniciando em 0\")\n",
    "    for index, move in enumerate(valids):\n",
    "        print(f\"{index} => {move}\")\n",
    "\n",
    "    board = bkt.draw_board(lines,columns,white_positions, black_positions)\n",
    "    display(board)\n",
    "    move = int(input())\n",
    "    \n",
    "    while move+1 > len(valids):\n",
    "        move = int(input())\n",
    "    return valids[move]\n"
   ]
  },
  {
   "cell_type": "code",
   "execution_count": 2012,
   "metadata": {},
   "outputs": [
    {
     "name": "stdout",
     "output_type": "stream",
     "text": [
      "Escolha um movimento por ordem de apresentação a seguir, iniciando em 0\n",
      "0 => [(4, 1), (3, 2)]\n",
      "1 => [(4, 1), (3, 1)]\n",
      "2 => [(4, 2), (3, 3)]\n",
      "3 => [(4, 2), (3, 2)]\n",
      "4 => [(4, 2), (3, 1)]\n",
      "5 => [(4, 3), (3, 4)]\n",
      "6 => [(4, 3), (3, 3)]\n",
      "7 => [(4, 3), (3, 2)]\n",
      "8 => [(4, 4), (3, 4)]\n",
      "9 => [(4, 4), (3, 3)]\n"
     ]
    },
    {
     "data": {
      "image/png": "[encoded data removed]",
      "text/plain": [
       "<PIL.Image.Image image mode=RGB size=200x200>"
      ]
     },
     "metadata": {},
     "output_type": "display_data"
    },
    {
     "ename": "ValueError",
     "evalue": "invalid literal for int() with base 10: ''",
     "output_type": "error",
     "traceback": [
      "\u001b[1;31m---------------------------------------------------------------------------\u001b[0m",
      "\u001b[1;31mValueError\u001b[0m                                Traceback (most recent call last)",
      "\u001b[1;32mc:\\Users\\gtvas\\Desktop\\tt003\\notebooks\\trab2.ipynb Cell 14\u001b[0m line \u001b[0;36m1\n\u001b[1;32m----> <a href='vscode-notebook-cell:/c%3A/Users/gtvas/Desktop/tt003/notebooks/trab2.ipynb#X16sZmlsZQ%3D%3D?line=0'>1</a>\u001b[0m result, history \u001b[39m=\u001b[39m bkt\u001b[39m.\u001b[39;49mgame(player_rl,human_player, lines, columns, white_positions, black_positions, epsilon\u001b[39m=\u001b[39;49m\u001b[39m0.3\u001b[39;49m)\n\u001b[0;32m      <a href='vscode-notebook-cell:/c%3A/Users/gtvas/Desktop/tt003/notebooks/trab2.ipynb#X16sZmlsZQ%3D%3D?line=1'>2</a>\u001b[0m images \u001b[39m=\u001b[39m bkt\u001b[39m.\u001b[39mgenerate_image_history(lines, columns, history)\n\u001b[0;32m      <a href='vscode-notebook-cell:/c%3A/Users/gtvas/Desktop/tt003/notebooks/trab2.ipynb#X16sZmlsZQ%3D%3D?line=2'>3</a>\u001b[0m bkt\u001b[39m.\u001b[39mdisplay_sequence(images)\n",
      "File \u001b[1;32mc:\\Users\\gtvas\\Desktop\\tt003\\notebooks\\breakthrough.py:217\u001b[0m, in \u001b[0;36mgame\u001b[1;34m(player1, player2, lines, columns, white_positions, black_positions, epsilon)\u001b[0m\n\u001b[0;32m    215\u001b[0m     origem, destino \u001b[39m=\u001b[39m player2(lines, columns, white_positions, black_positions, turn)\n\u001b[0;32m    216\u001b[0m \u001b[39melse\u001b[39;00m :\n\u001b[1;32m--> 217\u001b[0m     origem, destino \u001b[39m=\u001b[39m player2(lines, columns, white_positions, black_positions, turn, epsilon)\n\u001b[0;32m    219\u001b[0m lblack_positions \u001b[39m=\u001b[39m \u001b[39mlist\u001b[39m(black_positions)\n\u001b[0;32m    220\u001b[0m lblack_positions\u001b[39m.\u001b[39mremove(origem)\n",
      "\u001b[1;32mc:\\Users\\gtvas\\Desktop\\tt003\\notebooks\\trab2.ipynb Cell 14\u001b[0m line \u001b[0;36m9\n\u001b[0;32m      <a href='vscode-notebook-cell:/c%3A/Users/gtvas/Desktop/tt003/notebooks/trab2.ipynb#X16sZmlsZQ%3D%3D?line=6'>7</a>\u001b[0m board \u001b[39m=\u001b[39m bkt\u001b[39m.\u001b[39mdraw_board(lines,columns,white_positions, black_positions)\n\u001b[0;32m      <a href='vscode-notebook-cell:/c%3A/Users/gtvas/Desktop/tt003/notebooks/trab2.ipynb#X16sZmlsZQ%3D%3D?line=7'>8</a>\u001b[0m display(board)\n\u001b[1;32m----> <a href='vscode-notebook-cell:/c%3A/Users/gtvas/Desktop/tt003/notebooks/trab2.ipynb#X16sZmlsZQ%3D%3D?line=8'>9</a>\u001b[0m move \u001b[39m=\u001b[39m \u001b[39mint\u001b[39;49m(\u001b[39minput\u001b[39;49m())\n\u001b[0;32m     <a href='vscode-notebook-cell:/c%3A/Users/gtvas/Desktop/tt003/notebooks/trab2.ipynb#X16sZmlsZQ%3D%3D?line=10'>11</a>\u001b[0m \u001b[39mwhile\u001b[39;00m move\u001b[39m+\u001b[39m\u001b[39m1\u001b[39m \u001b[39m>\u001b[39m \u001b[39mlen\u001b[39m(valids):\n\u001b[0;32m     <a href='vscode-notebook-cell:/c%3A/Users/gtvas/Desktop/tt003/notebooks/trab2.ipynb#X16sZmlsZQ%3D%3D?line=11'>12</a>\u001b[0m     move \u001b[39m=\u001b[39m \u001b[39mint\u001b[39m(\u001b[39minput\u001b[39m())\n",
      "\u001b[1;31mValueError\u001b[0m: invalid literal for int() with base 10: ''"
     ]
    }
   ],
   "source": [
    "result, history = bkt.game(player_rl,human_player, lines, columns, white_positions, black_positions, epsilon=0.3)\n",
    "images = bkt.generate_image_history(lines, columns, history)\n",
    "bkt.display_sequence(images)\n"
   ]
  }
 ],
 "metadata": {
  "kernelspec": {
   "display_name": "Python 3",
   "language": "python",
   "name": "python3"
  },
  "language_info": {
   "codemirror_mode": {
    "name": "ipython",
    "version": 3
   },
   "file_extension": ".py",
   "mimetype": "text/x-python",
   "name": "python",
   "nbconvert_exporter": "python",
   "pygments_lexer": "ipython3",
   "version": "3.11.4"
  }
 },
 "nbformat": 4,
 "nbformat_minor": 2
}
