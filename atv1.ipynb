{
  "cells": [
    {
      "cell_type": "markdown",
      "id": "e1d38d39",
      "metadata": {
        "id": "e1d38d39"
      },
      "source": [
        "## Função do Segundo Grau\n",
        "\n",
        "Vamos agora realizar um experimento nos mesmos dados que usamos anteriormente. O objetivo será plotar uma curva do segundo grau, em outras palavras, uma curva do tipo $y = ax^2 + bx + c$.\n",
        "\n",
        "A dificuldade agora é que temos três parâmetros livres que precisamos descobrir: $a$, $b$ e $c$. Em outras palavras, no seu código, você precisará de três loops encadeados. Perceba que este nosso método de encontrar oráculos é proibitivo quando o número de parâmetros aumenta. Entretanto, veja se você consegue obter os melhores valores de $a$, $b$ e $c$.\n",
        "\n",
        "Primeiramente, vamos colocar no notebook as funções que você precisará"
      ]
    },
    {
      "cell_type": "code",
      "execution_count": null,
      "id": "39f511c1",
      "metadata": {
        "id": "39f511c1",
        "outputId": "c65d0616-5c1c-4917-bd56-14eaa51f163d",
        "colab": {
          "base_uri": "https://localhost:8080/",
          "height": 206
        }
      },
      "outputs": [
        {
          "output_type": "execute_result",
          "data": {
            "text/plain": [
              "   eruptions  waiting\n",
              "1      3.600       79\n",
              "2      1.800       54\n",
              "3      3.333       74\n",
              "4      2.283       62\n",
              "5      4.533       85"
            ],
            "text/html": [
              "\n",
              "\n",
              "  <div id=\"df-d7acfedf-c101-4f1e-9154-31761788fdcd\">\n",
              "    <div class=\"colab-df-container\">\n",
              "      <div>\n",
              "<style scoped>\n",
              "    .dataframe tbody tr th:only-of-type {\n",
              "        vertical-align: middle;\n",
              "    }\n",
              "\n",
              "    .dataframe tbody tr th {\n",
              "        vertical-align: top;\n",
              "    }\n",
              "\n",
              "    .dataframe thead th {\n",
              "        text-align: right;\n",
              "    }\n",
              "</style>\n",
              "<table border=\"1\" class=\"dataframe\">\n",
              "  <thead>\n",
              "    <tr style=\"text-align: right;\">\n",
              "      <th></th>\n",
              "      <th>eruptions</th>\n",
              "      <th>waiting</th>\n",
              "    </tr>\n",
              "  </thead>\n",
              "  <tbody>\n",
              "    <tr>\n",
              "      <th>1</th>\n",
              "      <td>3.600</td>\n",
              "      <td>79</td>\n",
              "    </tr>\n",
              "    <tr>\n",
              "      <th>2</th>\n",
              "      <td>1.800</td>\n",
              "      <td>54</td>\n",
              "    </tr>\n",
              "    <tr>\n",
              "      <th>3</th>\n",
              "      <td>3.333</td>\n",
              "      <td>74</td>\n",
              "    </tr>\n",
              "    <tr>\n",
              "      <th>4</th>\n",
              "      <td>2.283</td>\n",
              "      <td>62</td>\n",
              "    </tr>\n",
              "    <tr>\n",
              "      <th>5</th>\n",
              "      <td>4.533</td>\n",
              "      <td>85</td>\n",
              "    </tr>\n",
              "  </tbody>\n",
              "</table>\n",
              "</div>\n",
              "      <button class=\"colab-df-convert\" onclick=\"convertToInteractive('df-d7acfedf-c101-4f1e-9154-31761788fdcd')\"\n",
              "              title=\"Convert this dataframe to an interactive table.\"\n",
              "              style=\"display:none;\">\n",
              "\n",
              "  <svg xmlns=\"http://www.w3.org/2000/svg\" height=\"24px\"viewBox=\"0 0 24 24\"\n",
              "       width=\"24px\">\n",
              "    <path d=\"M0 0h24v24H0V0z\" fill=\"none\"/>\n",
              "    <path d=\"M18.56 5.44l.94 2.06.94-2.06 2.06-.94-2.06-.94-.94-2.06-.94 2.06-2.06.94zm-11 1L8.5 8.5l.94-2.06 2.06-.94-2.06-.94L8.5 2.5l-.94 2.06-2.06.94zm10 10l.94 2.06.94-2.06 2.06-.94-2.06-.94-.94-2.06-.94 2.06-2.06.94z\"/><path d=\"M17.41 7.96l-1.37-1.37c-.4-.4-.92-.59-1.43-.59-.52 0-1.04.2-1.43.59L10.3 9.45l-7.72 7.72c-.78.78-.78 2.05 0 2.83L4 21.41c.39.39.9.59 1.41.59.51 0 1.02-.2 1.41-.59l7.78-7.78 2.81-2.81c.8-.78.8-2.07 0-2.86zM5.41 20L4 18.59l7.72-7.72 1.47 1.35L5.41 20z\"/>\n",
              "  </svg>\n",
              "      </button>\n",
              "\n",
              "\n",
              "\n",
              "    <div id=\"df-f452c8e3-406f-498c-ac69-ccd586f177a0\">\n",
              "      <button class=\"colab-df-quickchart\" onclick=\"quickchart('df-f452c8e3-406f-498c-ac69-ccd586f177a0')\"\n",
              "              title=\"Suggest charts.\"\n",
              "              style=\"display:none;\">\n",
              "\n",
              "<svg xmlns=\"http://www.w3.org/2000/svg\" height=\"24px\"viewBox=\"0 0 24 24\"\n",
              "     width=\"24px\">\n",
              "    <g>\n",
              "        <path d=\"M19 3H5c-1.1 0-2 .9-2 2v14c0 1.1.9 2 2 2h14c1.1 0 2-.9 2-2V5c0-1.1-.9-2-2-2zM9 17H7v-7h2v7zm4 0h-2V7h2v10zm4 0h-2v-4h2v4z\"/>\n",
              "    </g>\n",
              "</svg>\n",
              "      </button>\n",
              "    </div>\n",
              "\n",
              "<style>\n",
              "  .colab-df-quickchart {\n",
              "    background-color: #E8F0FE;\n",
              "    border: none;\n",
              "    border-radius: 50%;\n",
              "    cursor: pointer;\n",
              "    display: none;\n",
              "    fill: #1967D2;\n",
              "    height: 32px;\n",
              "    padding: 0 0 0 0;\n",
              "    width: 32px;\n",
              "  }\n",
              "\n",
              "  .colab-df-quickchart:hover {\n",
              "    background-color: #E2EBFA;\n",
              "    box-shadow: 0px 1px 2px rgba(60, 64, 67, 0.3), 0px 1px 3px 1px rgba(60, 64, 67, 0.15);\n",
              "    fill: #174EA6;\n",
              "  }\n",
              "\n",
              "  [theme=dark] .colab-df-quickchart {\n",
              "    background-color: #3B4455;\n",
              "    fill: #D2E3FC;\n",
              "  }\n",
              "\n",
              "  [theme=dark] .colab-df-quickchart:hover {\n",
              "    background-color: #434B5C;\n",
              "    box-shadow: 0px 1px 3px 1px rgba(0, 0, 0, 0.15);\n",
              "    filter: drop-shadow(0px 1px 2px rgba(0, 0, 0, 0.3));\n",
              "    fill: #FFFFFF;\n",
              "  }\n",
              "</style>\n",
              "\n",
              "    <script>\n",
              "      async function quickchart(key) {\n",
              "        const containerElement = document.querySelector('#' + key);\n",
              "        const charts = await google.colab.kernel.invokeFunction(\n",
              "            'suggestCharts', [key], {});\n",
              "      }\n",
              "    </script>\n",
              "\n",
              "\n",
              "      <script>\n",
              "\n",
              "function displayQuickchartButton(domScope) {\n",
              "  let quickchartButtonEl =\n",
              "    domScope.querySelector('#df-f452c8e3-406f-498c-ac69-ccd586f177a0 button.colab-df-quickchart');\n",
              "  quickchartButtonEl.style.display =\n",
              "    google.colab.kernel.accessAllowed ? 'block' : 'none';\n",
              "}\n",
              "\n",
              "        displayQuickchartButton(document);\n",
              "      </script>\n",
              "      <style>\n",
              "    .colab-df-container {\n",
              "      display:flex;\n",
              "      flex-wrap:wrap;\n",
              "      gap: 12px;\n",
              "    }\n",
              "\n",
              "    .colab-df-convert {\n",
              "      background-color: #E8F0FE;\n",
              "      border: none;\n",
              "      border-radius: 50%;\n",
              "      cursor: pointer;\n",
              "      display: none;\n",
              "      fill: #1967D2;\n",
              "      height: 32px;\n",
              "      padding: 0 0 0 0;\n",
              "      width: 32px;\n",
              "    }\n",
              "\n",
              "    .colab-df-convert:hover {\n",
              "      background-color: #E2EBFA;\n",
              "      box-shadow: 0px 1px 2px rgba(60, 64, 67, 0.3), 0px 1px 3px 1px rgba(60, 64, 67, 0.15);\n",
              "      fill: #174EA6;\n",
              "    }\n",
              "\n",
              "    [theme=dark] .colab-df-convert {\n",
              "      background-color: #3B4455;\n",
              "      fill: #D2E3FC;\n",
              "    }\n",
              "\n",
              "    [theme=dark] .colab-df-convert:hover {\n",
              "      background-color: #434B5C;\n",
              "      box-shadow: 0px 1px 3px 1px rgba(0, 0, 0, 0.15);\n",
              "      filter: drop-shadow(0px 1px 2px rgba(0, 0, 0, 0.3));\n",
              "      fill: #FFFFFF;\n",
              "    }\n",
              "  </style>\n",
              "\n",
              "      <script>\n",
              "        const buttonEl =\n",
              "          document.querySelector('#df-d7acfedf-c101-4f1e-9154-31761788fdcd button.colab-df-convert');\n",
              "        buttonEl.style.display =\n",
              "          google.colab.kernel.accessAllowed ? 'block' : 'none';\n",
              "\n",
              "        async function convertToInteractive(key) {\n",
              "          const element = document.querySelector('#df-d7acfedf-c101-4f1e-9154-31761788fdcd');\n",
              "          const dataTable =\n",
              "            await google.colab.kernel.invokeFunction('convertToInteractive',\n",
              "                                                     [key], {});\n",
              "          if (!dataTable) return;\n",
              "\n",
              "          const docLinkHtml = 'Like what you see? Visit the ' +\n",
              "            '<a target=\"_blank\" href=https://colab.research.google.com/notebooks/data_table.ipynb>data table notebook</a>'\n",
              "            + ' to learn more about interactive tables.';\n",
              "          element.innerHTML = '';\n",
              "          dataTable['output_type'] = 'display_data';\n",
              "          await google.colab.output.renderOutput(dataTable, element);\n",
              "          const docLink = document.createElement('div');\n",
              "          docLink.innerHTML = docLinkHtml;\n",
              "          element.appendChild(docLink);\n",
              "        }\n",
              "      </script>\n",
              "    </div>\n",
              "  </div>\n"
            ]
          },
          "metadata": {},
          "execution_count": 274
        }
      ],
      "source": [
        "## Obtendo os dados\n",
        "import pandas as pd\n",
        "import numpy as np\n",
        "\n",
        "faithful = pd.read_csv(\"faithful.csv\", index_col = 0)\n",
        "faithful.head()"
      ]
    },
    {
      "cell_type": "code",
      "execution_count": null,
      "id": "73ef55c0",
      "metadata": {
        "id": "73ef55c0"
      },
      "outputs": [],
      "source": [
        "# Função que computa o erro do oráculo\n",
        "def erro_quadratico_acumulado(oraculo) :\n",
        "    # Obtendo as observações de erupção e espera\n",
        "    # do old faithful geyzer\n",
        "    pontos_y = faithful.eruptions.values\n",
        "    pontos_x = faithful.waiting.values\n",
        "\n",
        "    # Vamos concatenar os quadrados das distâncias\n",
        "    # entre a espera real e a predita\n",
        "    erro = 0\n",
        "    for i in range(len(pontos_x)) :\n",
        "        # Usando o oráculo para obter a predição.\n",
        "        # Posteriormente, chamaremos isso de\n",
        "        # passo forward.\n",
        "        predicted = oraculo(pontos_x[i])\n",
        "\n",
        "        # O erro é o quadrado da diferença entre\n",
        "        # o que foi predito e o que estava no\n",
        "        # banco de dados\n",
        "        erro += (predicted - pontos_y[i])**2\n",
        "\n",
        "    return erro"
      ]
    },
    {
      "cell_type": "code",
      "execution_count": null,
      "id": "cfa02dfb",
      "metadata": {
        "id": "cfa02dfb"
      },
      "outputs": [],
      "source": [
        "# Função que cria um gráfico do oráculo\n",
        "import matplotlib.pyplot as plt\n",
        "def plota_grafico(oraculo, with_error = False) :\n",
        "    ## Plotando os pontos do banco de dados\n",
        "    faithful.plot.scatter(x='waiting',\n",
        "                          y='eruptions')\n",
        "\n",
        "    ## Criando um eixo X para plotar a reta\n",
        "    eixo_x = range(40,100,2)\n",
        "    eixo_y = []\n",
        "\n",
        "    ## Gerando a resposta do oráculo\n",
        "    for x in eixo_x :\n",
        "        eixo_y.append(oraculo(x))\n",
        "\n",
        "    ## Plotando a reta\n",
        "    plt.plot(eixo_x, eixo_y, 'r--', label='Valores Obtidos')\n",
        "\n",
        "    if (with_error) :\n",
        "\n",
        "        ## Colocando barras verticais para evidenciar erros\n",
        "        ## do oráculo\n",
        "        pontos_y = faithful.eruptions.values\n",
        "        pontos_x = faithful.waiting.values\n",
        "        for i in range(len(pontos_x)) :\n",
        "            predicted = oraculo(pontos_x[i])\n",
        "            plt.plot(\n",
        "                (pontos_x[i], pontos_x[i]),\n",
        "                (predicted, pontos_y[i]),\n",
        "                '-', c = \"black\"\n",
        "            )"
      ]
    },
    {
      "cell_type": "markdown",
      "id": "468fcd6d",
      "metadata": {
        "id": "468fcd6d"
      },
      "source": [
        "Agora começa o seu trabalho, você deverá criar uma função que indique o valor do erro para um grupo de $a$, $b$ e $c$. Esta função é muito semelhante ao que foi visto em sala de aula, mas agora para três parâmetros."
      ]
    },
    {
      "cell_type": "code",
      "source": [
        "iter_a = 200\n",
        "min_a = -5\n",
        "max_a = 5\n",
        "\n",
        "iter_b = 200\n",
        "min_b = -5\n",
        "max_b = 5\n",
        "\n",
        "iter_c= 200\n",
        "min_c = -5\n",
        "max_c = 5\n"
      ],
      "metadata": {
        "id": "ZAzZvmILjc7L"
      },
      "id": "ZAzZvmILjc7L",
      "execution_count": null,
      "outputs": []
    },
    {
      "cell_type": "code",
      "execution_count": null,
      "id": "c8a612aa",
      "metadata": {
        "id": "c8a612aa"
      },
      "outputs": [],
      "source": [
        "def erro_quadratico_variando_a_b_c() :\n",
        "    # Listas a serem retornadas.\n",
        "    eixo_a = []\n",
        "    eixo_b = []\n",
        "    eixo_c = []\n",
        "    eixo_erro = []\n",
        "\n",
        "    # ToDo: Configure os mínimos e máximos de\n",
        "    # a, b e c na sua busca\n",
        "\n",
        "    for i in range(iter_a) :\n",
        "        a = min_a + i * (max_a - min_a)/iter_a\n",
        "\n",
        "        for j in range(iter_b) :\n",
        "            b = min_b + j * (max_b - min_b)/iter_b\n",
        "\n",
        "            for k in range(iter_c) :\n",
        "                c = min_c + k * (max_c - min_c)/iter_c\n",
        "\n",
        "                eixo_a.append(a)\n",
        "                eixo_b.append(b)\n",
        "                eixo_c.append(c)\n",
        "\n",
        "                ## ToDo: crie o oráculo com os valores de a, b e c.\n",
        "                oraculo = lambda x : a*(x*x) + b*x +c\n",
        "\n",
        "                eixo_erro.append(erro_quadratico_acumulado(oraculo))\n",
        "\n",
        "    return eixo_a, eixo_b, eixo_c, eixo_erro\n"
      ]
    },
    {
      "cell_type": "code",
      "source": [
        "import pandas as pd\n",
        "import numpy as np\n",
        "\n",
        "def erro2_quadratico_variando_a_b_c() :\n",
        "\n",
        "  a = min_a + np.arange(iter_a) * (max_a - min_a)/iter_a\n",
        "  b = min_b + np.arange(iter_b) * (max_b - min_b)/iter_b\n",
        "  b = np.tile(b, iter_a)\n",
        "  c = min_c + np.arange(iter_c) * (max_c - min_c)/iter_c\n",
        "  c = np.tile(c, iter_b*iter_a)\n",
        "\n",
        "  eixo_a = np.repeat(a,iter_b*iter_c)\n",
        "  eixo_b = np.repeat(b,iter_c)\n",
        "  eixo_c = c\n",
        "\n",
        "\n",
        "  oraculo = lambda x : eixo_a*(x*x) + eixo_b*x +eixo_c\n",
        "  eixo_erro =erro_quadratico_acumulado(oraculo)\n",
        "\n",
        "  return eixo_a, eixo_b, eixo_c, eixo_erro\n"
      ],
      "metadata": {
        "id": "WFiWpCaad6t-"
      },
      "id": "WFiWpCaad6t-",
      "execution_count": null,
      "outputs": []
    },
    {
      "cell_type": "code",
      "source": [
        "import time\n",
        "\n",
        "start = time.time()\n",
        "\n",
        "eixo_a, eixo_b, eixo_c, eixo_erro = erro2_quadratico_variando_a_b_c()\n",
        "\n",
        "print(str(time.time()- start) + \" seconds\")\n",
        "\n",
        "\n",
        "#print(np.allclose(a,b))"
      ],
      "metadata": {
        "colab": {
          "base_uri": "https://localhost:8080/"
        },
        "id": "qDxGtU7BhoTF",
        "outputId": "ef432381-1b5b-4393-e5fb-3b55280dd049"
      },
      "id": "qDxGtU7BhoTF",
      "execution_count": null,
      "outputs": [
        {
          "output_type": "stream",
          "name": "stdout",
          "text": [
            "27.97288990020752 seconds\n"
          ]
        }
      ]
    },
    {
      "cell_type": "markdown",
      "id": "6fa76997",
      "metadata": {
        "id": "6fa76997"
      },
      "source": [
        "O próximo passo é econtrar os valores que minimizam o erro."
      ]
    },
    {
      "cell_type": "code",
      "execution_count": null,
      "id": "560d903c",
      "metadata": {
        "id": "560d903c",
        "colab": {
          "base_uri": "https://localhost:8080/"
        },
        "outputId": "c4b83b31-8d9c-4620-a786-e27242476823"
      },
      "outputs": [
        {
          "output_type": "stream",
          "name": "stdout",
          "text": [
            "96.3143749999991 0.0 0.09999999999999964 -3.6\n"
          ]
        }
      ],
      "source": [
        "\n",
        "\n",
        "\n",
        "minindex = np.argmin(eixo_erro)\n",
        "erro_minimo = eixo_erro[minindex]\n",
        "a_minimo = eixo_a[minindex]\n",
        "b_minimo = eixo_b[minindex]\n",
        "c_minimo = eixo_c[minindex]\n",
        "\n",
        "\n",
        "\n",
        "## ToDo: pesquise pelo vetor eixo_erro qual o erro mínimo e\n",
        "## coloque na variável erro_minimo.\n",
        "\n",
        "## ToDo: encontre os valores de a, b e c que geram o erro mímimo e\n",
        "## armazene nas variáveis a_minimo, b_minimo e c_minimo\n",
        "print(erro_minimo, a_minimo, b_minimo, c_minimo)"
      ]
    },
    {
      "cell_type": "markdown",
      "id": "878671c4",
      "metadata": {
        "id": "878671c4"
      },
      "source": [
        "Agora plote a curva que você encontrou em um gráfico. Em outras palavras, crie o quinto oráculo com os valores encontrados por você."
      ]
    },
    {
      "cell_type": "code",
      "execution_count": null,
      "id": "dffbc33c",
      "metadata": {
        "id": "dffbc33c",
        "outputId": "9c7d508a-4ba1-4981-d1ce-d5e9d21704c7",
        "colab": {
          "base_uri": "https://localhost:8080/",
          "height": 449
        }
      },
      "outputs": [
        {
          "output_type": "display_data",
          "data": {
            "text/plain": [
              "<Figure size 640x480 with 1 Axes>"
            ],
            "image/png": "[encoded data removed]"
          },
          "metadata": {}
        }
      ],
      "source": [
        "## ToDo: retorne os menores valores de a, b e c\n",
        "def quinto_oraculo(x) :\n",
        "    return a_minimo*(x*x) + b_minimo*x +c_minimo\n",
        "\n",
        "plota_grafico(quinto_oraculo)"
      ]
    },
    {
      "cell_type": "code",
      "execution_count": null,
      "id": "481a0bf2",
      "metadata": {
        "id": "481a0bf2"
      },
      "outputs": [],
      "source": []
    }
  ],
  "metadata": {
    "kernelspec": {
      "display_name": "Python 3.9 (pytorch)",
      "language": "python",
      "name": "pytorch"
    },
    "language_info": {
      "codemirror_mode": {
        "name": "ipython",
        "version": 3
      },
      "file_extension": ".py",
      "mimetype": "text/x-python",
      "name": "python",
      "nbconvert_exporter": "python",
      "pygments_lexer": "ipython3",
      "version": "3.9.16"
    },
    "colab": {
      "provenance": []
    }
  },
  "nbformat": 4,
  "nbformat_minor": 5
}