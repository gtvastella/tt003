{
  "nbformat": 4,
  "nbformat_minor": 0,
  "metadata": {
    "colab": {
      "provenance": [],
      "authorship_tag": "ABX9TyO2e6WBmlViE2NE7XSNMVNC",
      "include_colab_link": true
    },
    "kernelspec": {
      "name": "python3",
      "display_name": "Python 3"
    },
    "language_info": {
      "name": "python"
    }
  },
  "cells": [
    {
      "cell_type": "markdown",
      "metadata": {
        "id": "view-in-github",
        "colab_type": "text"
      },
      "source": [
        "<a href=\"https://colab.research.google.com/github/gtvastella/tt003/blob/main/atv6.ipynb\" target=\"_parent\"><img src=\"https://colab.research.google.com/assets/colab-badge.svg\" alt=\"Open In Colab\"/></a>"
      ]
    },
    {
      "cell_type": "code",
      "source": [
        "import numpy as np\n",
        "import matplotlib.pyplot as plt"
      ],
      "metadata": {
        "id": "arvC2tcH34RE"
      },
      "execution_count": null,
      "outputs": []
    },
    {
      "cell_type": "code",
      "source": [
        "rewards = np.array([[0, -10, -10, -10, -7, -7, -10, -10, -10, -10],\n",
        "                    [-10, -7, -7, -7, -7, -7, -7, -7, -7, -10],\n",
        "                    [-10, -7, -4, -4, -4, -4, -4, -4, -7, -10],\n",
        "                    [-10, -7, -4, -4, -1, -1, -4, -4, -7, -10],\n",
        "                    [-10, -7, -4, -4, -1, -1, -1, -4, -7, -10],\n",
        "                    [-10, -7, -4, -4, -1, -1, -1, -4, -7, -10],\n",
        "                    [-10, -7, -4, -4, -1, -1, -4, -4, -7, -10],\n",
        "                    [-10, -7, -4, -4, -4, -4, -4, -4, -7, -10],\n",
        "                    [-10, -7, -7, -7, -7, -7, -7, -7, -7, -10],\n",
        "                    [-10, -10, -10, -10, -7, -7, -10, -10, -10, 0]])\n",
        "siderewards = np.zeros((rewards.shape[0], rewards.shape[1], 4), dtype=np.ndarray)\n",
        "sidedistances = np.zeros((rewards.shape[0], rewards.shape[1], 4), dtype=np.ndarray)\n",
        "\n"
      ],
      "metadata": {
        "id": "lhkUGA-aEMIh"
      },
      "execution_count": null,
      "outputs": []
    },
    {
      "cell_type": "code",
      "source": [
        "\n",
        "\n",
        "def getReward(x,y):\n",
        "\n",
        "  x = int(x)\n",
        "  y = int(y)\n",
        "  if x > 10 or x < 1 or y > 10 or y < 1:\n",
        "    return np.nan\n",
        "\n",
        "  xn = x-1\n",
        "  yn = 10-y\n",
        "\n",
        "  return rewards[yn][xn]\n",
        "\n",
        "def getRewardStr(xy):\n",
        "  x = int(xy.split(\",\")[0])\n",
        "  y = int(xy.split(\",\")[1])\n",
        "\n",
        "  if x > 10 or x < 1 or y > 10 or y < 1:\n",
        "    return np.nan\n",
        "\n",
        "  xn = x-1\n",
        "  yn = 10-y\n",
        "\n",
        "  return int(rewards[yn][xn])\n",
        "\n",
        "def getRewards(vec):\n",
        "\n",
        "  rwr = np.array([])\n",
        "\n",
        "  for pos in vec:\n",
        "\n",
        "    x = int(pos.split(\",\")[0])\n",
        "    y = int(pos.split(\",\")[1])\n",
        "\n",
        "    if x > 10 or x < 1 or y > 10 or y < 1:\n",
        "      continue\n",
        "\n",
        "    xn = x-1\n",
        "    yn = 10-y\n",
        "\n",
        "    rwr = np.append(rwr, rewards[yn][xn])\n",
        "\n",
        "  return rwr\n",
        "\n",
        "\n",
        "def getSurroundingRewards(x, y):\n",
        "\n",
        "    rewardUp =  np.nan\n",
        "    rewardDown = np.nan\n",
        "    rewardLeft = np.nan\n",
        "    rewardRight = np.nan\n",
        "\n",
        "    try:\n",
        "      rewardUp = getReward(x, y+1)\n",
        "    except:\n",
        "      pass\n",
        "    try:\n",
        "      rewardDown =  getReward(x, y-1)\n",
        "    except:\n",
        "      pass\n",
        "    try:\n",
        "      rewardLeft = getReward(x-1, y)\n",
        "    except:\n",
        "      pass\n",
        "    try:\n",
        "      rewardRight =  getReward(x+1, y)\n",
        "    except:\n",
        "      pass\n",
        "\n",
        "    return np.array([rewardUp, rewardDown, rewardLeft, rewardRight])\n",
        "\n",
        "def getSurroundingDistances(x, y, x1, x2):\n",
        "\n",
        "    distanceUp =  np.nan\n",
        "    distanceDown = np.nan\n",
        "    distanceLeft = np.nan\n",
        "    distanceRight = np.nan\n",
        "\n",
        "    try:\n",
        "      distanceUp = euclideanDistance(x, y+1, x1, x2)\n",
        "    except:\n",
        "      pass\n",
        "    try:\n",
        "      distanceDown =  euclideanDistance(x, y-1, x1, x2)\n",
        "    except:\n",
        "      pass\n",
        "    try:\n",
        "      distanceLeft = euclideanDistance(x-1, y, x1, x2)\n",
        "    except:\n",
        "      pass\n",
        "    try:\n",
        "      distanceRight =  euclideanDistance(x+1, y, x1, x2)\n",
        "    except:\n",
        "      pass\n",
        "\n",
        "    return np.array([distanceUp, distanceDown, distanceLeft, distanceRight])\n",
        "\n",
        "\n",
        "def setSideRewards():\n",
        "  for y in np.arange(10):\n",
        "    for x in np.arange(10):\n",
        "      siderewards[9-y][x] = getSurroundingRewards(x+1,y+1)\n",
        "\n",
        "def setSideDistances(xGoal, yGoal):\n",
        "  for y in np.arange(10):\n",
        "    for x in np.arange(10):\n",
        "      sidedistances[9-y][x] = getSurroundingDistances(x+1,y+1, xGoal, yGoal)\n",
        "\n",
        "\n",
        "def getSideRewards(x,y):\n",
        "\n",
        "  x = int(x)\n",
        "  y = int(y)\n",
        "  return siderewards[x][y]\n",
        "\n",
        "def getSideDistances(x,y):\n",
        "\n",
        "  x = int(x)\n",
        "  y = int(y)\n",
        "  return sidedistances[x][y]\n",
        "\n",
        "\n",
        "\n",
        "def toString(x,y):\n",
        "\n",
        "  return (str(x) + \",\" + str(y))\n",
        "\n",
        "def fromString(xy):\n",
        "\n",
        "    x = int(xy.split(\",\")[0])\n",
        "    y = int(xy.split(\",\")[1])\n",
        "    return int(x),int(y)\n",
        "\n",
        "def getSideLocations(x,y):\n",
        "\n",
        "\n",
        "  sides =  np.array([]).astype(str)\n",
        "  if (x+1 < 11):\n",
        "    sides = np.append(sides, toString(x+1, y))\n",
        "\n",
        "  if (x-1 >0):\n",
        "    sides =  np.append(sides, toString(x-1, y))\n",
        "\n",
        "  if (y+1 < 11):\n",
        "    sides =  np.append(sides, toString(x, y+1))\n",
        "\n",
        "  if (y-1 >0):\n",
        "    sides =  np.append(sides, toString(x, y-1))\n",
        "\n",
        "  return sides\n",
        "\n",
        "\n",
        "\n",
        "def manhattanDistance(x1, y1, x2, y2):\n",
        "    return np.abs(x2 - x1) + np.abs(y2 - y1)\n",
        "\n",
        "def euclideanDistance(x1, y1, x2, y2):\n",
        "    return np.sqrt((x2 - x1)**2 + (y2 - y1)**2)\n",
        "\n",
        "\n",
        "\n",
        "\n",
        "def showGridPlot(coords = []):\n",
        "\n",
        "\n",
        "  rws = [[getReward(x, y) if toString(x, y) not in coords else \"(\"+str(np.where(np.array(coords) == toString(x,y))[0][0])+\")\" for y in range(1, 11)] for x in range(1, 11)]\n",
        "\n",
        "  # Plotar o gráficol.\n",
        "  fig, ax = plt.subplots()\n",
        "  cax = ax.matshow(rewards, cmap='viridis')  # Escolha um mapa de cores que você goste\n",
        "\n",
        "  # Adicionar texto com os valores de recompensa em cada célula\n",
        "  for i in range(10):\n",
        "      for j in range(10):\n",
        "          ax.text(j, i, str(rws[i][j]), va='center', ha='center', color=\"white\")\n",
        "\n",
        "  # Adicionar uma barra de cores\n",
        "  fig.colorbar(cax)\n",
        "\n",
        "  # Mostrar o gráfico\n",
        "  plt.show()\n",
        "showGridPlot()\n"
      ],
      "metadata": {
        "id": "rTYLRl4SEFhh",
        "colab": {
          "base_uri": "https://localhost:8080/",
          "height": 438
        },
        "outputId": "df29c37b-20cb-41db-b9ef-91f281ca40ae"
      },
      "execution_count": null,
      "outputs": [
        {
          "output_type": "display_data",
          "data": {
            "text/plain": [
              "<Figure size 640x480 with 2 Axes>"
            ],
            "image/png": "[encoded data removed]"
          },
          "metadata": {}
        }
      ]
    },
    {
      "cell_type": "code",
      "source": [
        "setSideRewards()\n",
        "setSideDistances(1,10)"
      ],
      "metadata": {
        "id": "Ilg-B9J70Jgc"
      },
      "execution_count": null,
      "outputs": []
    },
    {
      "cell_type": "code",
      "source": [
        "from IPython.display import display # para mostrar imagens\n",
        "from PIL import Image, ImageDraw    # para ler imagens\n",
        "\n",
        "\n",
        "\n",
        "def draw_policy(dim = 400, dist = False) :\n",
        "    board = Image.new('RGB', (3*dim, 2*dim),  \"gray\")\n",
        "    draw  = ImageDraw.Draw(board)\n",
        "\n",
        "    lines   = 10\n",
        "    columns = 10\n",
        "\n",
        "    ## Linhas e Colunas\n",
        "    shift_lines = float(board.size[1])/lines\n",
        "    for el in range(lines) :\n",
        "        draw.line( (0, shift_lines *(el+1), board.size[0], shift_lines*(el+1)), fill = \"black\" )\n",
        "\n",
        "    ## Linhas e Colunas\n",
        "    shift_columns = float(board.size[0])/columns\n",
        "    for el in range(columns) :\n",
        "        draw.line( (shift_columns*(el+1), 0, shift_columns*(el+1), board.size[1]), fill = \"black\" )\n",
        "\n",
        "    for x in np.arange(10) :\n",
        "        for y in np.arange(10) :\n",
        "\n",
        "          rw = getSideRewards(x,y) if not dist else getSideDistances(x,y)\n",
        "          lpolicy = rw\n",
        "\n",
        "          draw.text((shift_columns*(y+0.4),shift_lines*(x+0.1)), (\"%.2f\" % (lpolicy[0])) if not np.isnan(lpolicy[0]) else (\"\"))\n",
        "          draw.text((shift_columns*(y+0.7),shift_lines*(x+0.4)), (\"%.2f\" % (lpolicy[3])) if not np.isnan(lpolicy[3]) else  (\"\"))\n",
        "          draw.text((shift_columns*(y+0.4),shift_lines*(x+0.7)), (\"%.2f\" % (lpolicy[1])) if not np.isnan(lpolicy[1]) else  (\"\"))\n",
        "          draw.text((shift_columns*(y+0.1),shift_lines*(x+0.4)), (\"%.2f\" % (lpolicy[2])) if not np.isnan(lpolicy[2]) else (\"\"))\n",
        "    return board\n",
        "\n",
        "display(draw_policy())\n",
        "\n",
        "print(\"Distância\")\n",
        "\n",
        "\n",
        "display(draw_policy(dist=True))"
      ],
      "metadata": {
        "colab": {
          "base_uri": "https://localhost:8080/",
          "height": 1000
        },
        "id": "OeiY9CMB9kMd",
        "outputId": "ca265803-8594-4064-e4fd-e5e3e2bef8d8"
      },
      "execution_count": null,
      "outputs": [
        {
          "output_type": "display_data",
          "data": {
            "text/plain": [
              "<PIL.Image.Image image mode=RGB size=1200x800>"
            ],
            "image/png": "[encoded data removed]"
          },
          "metadata": {}
        },
        {
          "output_type": "stream",
          "name": "stdout",
          "text": [
            "Distância\n"
          ]
        },
        {
          "output_type": "display_data",
          "data": {
            "text/plain": [
              "<PIL.Image.Image image mode=RGB size=1200x800>"
            ],
            "image/png": "[encoded data removed]"
          },
          "metadata": {}
        }
      ]
    },
    {
      "cell_type": "code",
      "source": [
        "import random\n",
        "\n",
        "def bothSearch():\n",
        "  currentX = 10\n",
        "  currentY = 1\n",
        "  goalX = 1\n",
        "  goalY = 10\n",
        "  visited = np.array([])\n",
        "  visited = np.append(visited, toString(currentX,currentY))\n",
        "  moves = 1\n",
        "  accum = 0\n",
        "  path = \"\"\n",
        "\n",
        "\n",
        "  while (currentX != goalX and currentY != goalY):\n",
        "\n",
        "    avaliableSides = getSideLocations(currentX, currentY)\n",
        "    avaliableSides = np.setdiff1d(avaliableSides,visited)\n",
        "    distances = {}\n",
        "    avaliableRewards = {}\n",
        "\n",
        "    for side in avaliableSides:\n",
        "      distances[side] = euclideanDistance(int(side.split(\",\")[0]), int(side.split(\",\")[1]), goalX, goalY)\n",
        "    min_dist = np.where(list(distances.values()) == np.min(list(distances.values())))\n",
        "    min_dist = np.array(min_dist)[0]\n",
        "\n",
        "\n",
        "    if (len(min_dist) > 1):\n",
        "\n",
        "      nextRewards = {}\n",
        "      for j in min_dist:\n",
        "        key = list(distances.keys())[j]\n",
        "        newX, newY = fromString(key)\n",
        "\n",
        "        nextRewards[toString(newX, newY)]= getReward(int(newX), int(newY))\n",
        "\n",
        "\n",
        "\n",
        "      max_rewards = np.where(list(nextRewards.values()) == np.max(list(nextRewards.values())))\n",
        "      max_rewards = np.array(max_rewards)[0]\n",
        "\n",
        "      if (len(max_rewards) > 1):\n",
        "\n",
        "        rd = random.choice(max_rewards)\n",
        "        key = list(nextRewards.keys())[rd]\n",
        "        currentX, currentY = fromString(key)\n",
        "        visited = np.append(visited, toString(currentX, currentY))\n",
        "        path+=toString(currentX, currentY) + \" > \"\n",
        "        accum+=getReward(currentX, currentY)\n",
        "        moves+=1\n",
        "      else:\n",
        "\n",
        "        minim = np.argmax(list(nextRewards.values()))\n",
        "        key = list(nextRewards.keys())[minim]\n",
        "        currentX, currentY = fromString(key)\n",
        "        visited =  np.append(visited, toString(currentX, currentY))\n",
        "        path+=toString(currentX, currentY) + \" > \"\n",
        "        accum+=getReward(currentX, currentY)\n",
        "        moves+=1\n",
        "    else:\n",
        "      i = np.argmin(list(distances.values()))\n",
        "\n",
        "      maxr = avaliableSides[i]\n",
        "      currentX, currentY = fromString(maxr)\n",
        "      visited =  np.append(visited, toString(currentX, currentY))\n",
        "      path+=toString(currentX, currentY) + \" > \"\n",
        "      accum+=getReward(currentX, currentY)\n",
        "      moves+=1\n",
        "\n",
        "  path+=f\"{goalX},{goalY}\"\n",
        "  return accum, moves, path\n",
        "\n"
      ],
      "metadata": {
        "id": "gRRQlpyTKKcr"
      },
      "execution_count": null,
      "outputs": []
    },
    {
      "cell_type": "code",
      "source": [
        "import time\n"
      ],
      "metadata": {
        "id": "ahKVu_b47f_i"
      },
      "execution_count": null,
      "outputs": []
    },
    {
      "cell_type": "code",
      "source": [
        "results = []\n",
        "moves = []\n",
        "paths = []\n",
        "tempo_inicial = time.time()\n",
        "for x in np.arange(1000):\n",
        "  r, m, p = bothSearch()\n",
        "  results = np.append(results, r)\n",
        "  moves = np.append(moves, m)\n",
        "  paths = np.append(paths, p)\n",
        "tempo_final = time.time()\n",
        "\n",
        "tempo_execucao = tempo_final - tempo_inicial\n",
        "print(\"Custo mínimo:\" + str(np.max(results)))\n",
        "print(\"Custo máximo:\" + str(np.min(results)))\n",
        "print(\"Mínimo de movimentos:\" + str(np.min(moves)))\n",
        "print(\"Máximo de movimentos:\" + str(np.max(moves)))\n",
        "print(\"Caminhos possíveis: \" +str(np.unique(paths.tolist()).size))\n",
        "print(\"Exemplo de caminho: \" +str(random.choice(paths)))\n",
        "print(f'Tempo de execução: {tempo_execucao} segundos')"
      ],
      "metadata": {
        "colab": {
          "base_uri": "https://localhost:8080/"
        },
        "id": "dvS4l5xZspXe",
        "outputId": "ef5b2061-4e26-4c26-8c0e-f7d0abc0e1ec"
      },
      "execution_count": null,
      "outputs": [
        {
          "output_type": "stream",
          "name": "stdout",
          "text": [
            "Custo mínimo:-77.0\n",
            "Custo máximo:-77.0\n",
            "Mínimo de movimentos:18.0\n",
            "Máximo de movimentos:18.0\n",
            "Caminhos possíveis: 253\n",
            "Exemplo de caminho: 10,2 > 9,2 > 9,3 > 8,3 > 7,3 > 7,4 > 6,4 > 6,5 > 5,5 > 5,6 > 5,7 > 4,7 > 4,8 > 3,8 > 3,9 > 2,9 > 2,10 > 1,10\n",
            "Tempo de execução: 4.254976511001587 segundos\n"
          ]
        }
      ]
    }
  ]
}