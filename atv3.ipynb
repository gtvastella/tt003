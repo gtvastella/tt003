{
  "cells": [
    {
      "cell_type": "markdown",
      "metadata": {
        "id": "itIhckL1m4Rk"
      },
      "source": [
        "**Universidade Estadual de Campinas - Unicamp**\n",
        "\n",
        "**Faculdade de Tecnologia - FT**\n",
        "\n",
        "**Autor:** Ulisses Martins Dias\n",
        "\n",
        "**Disciplina:** TT003 - Tópicos em Computação e Informática III\n",
        "\n",
        "**Atividade 03:** Regressão Linear\n",
        "\n",
        "[![Open In Colab](https://colab.research.google.com/assets/colab-badge.svg)](https://colab.research.google.com/github/ulissesdias/tt003/blob/main/atividades/atividade03.ipynb)\n"
      ]
    },
    {
      "cell_type": "markdown",
      "metadata": {
        "id": "4BzbvFgpouVK"
      },
      "source": [
        "# Regressão Linear\n",
        "\n",
        "Nesta atividade, vamos efetuar o treinamento de um modelo de regressão linear, algo muito próximo do que fizemos em sala de aula, mas utilizando um novo banco de dados. Este notebook iniciará o processo de carregar e preparar o banco de dados, além de plotar alguns gráficos para dar maiores explicações sobre o conteúdo dos dados. Além disso, você pode achar que algum código usado neste notebook pode posteriormente ser adaptado para resolver a atividade da semana.\n",
        "\n",
        "O banco de dados em questão foi extraído em 1974 da revista *Motor Trend US* e e mostra o consumo de combustível e 10 aspectos de projeto e de desempenho de  32 automóveis (modelos de 1973 a 1974)."
      ]
    },
    {
      "cell_type": "code",
      "execution_count": null,
      "metadata": {
        "id": "BukIwQsrp_m6"
      },
      "outputs": [],
      "source": [
        "import pandas as pd\n",
        "import matplotlib.pyplot as plt\n",
        "import torch\n"
      ]
    },
    {
      "cell_type": "code",
      "execution_count": null,
      "metadata": {
        "colab": {
          "base_uri": "https://localhost:8080/",
          "height": 206
        },
        "id": "H3466yueoat6",
        "outputId": "add70b49-f2aa-4a92-a0a0-4a10ffcbd9c9"
      },
      "outputs": [
        {
          "output_type": "execute_result",
          "data": {
            "text/plain": [
              "               model   mpg  cyl   disp   hp  drat     wt   qsec  vs  am  gear  \\\n",
              "0          Mazda RX4  21.0    6  160.0  110  3.90  2.620  16.46   0   1     4   \n",
              "1      Mazda RX4 Wag  21.0    6  160.0  110  3.90  2.875  17.02   0   1     4   \n",
              "2         Datsun 710  22.8    4  108.0   93  3.85  2.320  18.61   1   1     4   \n",
              "3     Hornet 4 Drive  21.4    6  258.0  110  3.08  3.215  19.44   1   0     3   \n",
              "4  Hornet Sportabout  18.7    8  360.0  175  3.15  3.440  17.02   0   0     3   \n",
              "\n",
              "   carb  \n",
              "0     4  \n",
              "1     4  \n",
              "2     1  \n",
              "3     1  \n",
              "4     2  "
            ],
            "text/html": [
              "\n",
              "  <div id=\"df-b164125a-9ccd-4eb6-a575-668280a733f8\" class=\"colab-df-container\">\n",
              "    <div>\n",
              "<style scoped>\n",
              "    .dataframe tbody tr th:only-of-type {\n",
              "        vertical-align: middle;\n",
              "    }\n",
              "\n",
              "    .dataframe tbody tr th {\n",
              "        vertical-align: top;\n",
              "    }\n",
              "\n",
              "    .dataframe thead th {\n",
              "        text-align: right;\n",
              "    }\n",
              "</style>\n",
              "<table border=\"1\" class=\"dataframe\">\n",
              "  <thead>\n",
              "    <tr style=\"text-align: right;\">\n",
              "      <th></th>\n",
              "      <th>model</th>\n",
              "      <th>mpg</th>\n",
              "      <th>cyl</th>\n",
              "      <th>disp</th>\n",
              "      <th>hp</th>\n",
              "      <th>drat</th>\n",
              "      <th>wt</th>\n",
              "      <th>qsec</th>\n",
              "      <th>vs</th>\n",
              "      <th>am</th>\n",
              "      <th>gear</th>\n",
              "      <th>carb</th>\n",
              "    </tr>\n",
              "  </thead>\n",
              "  <tbody>\n",
              "    <tr>\n",
              "      <th>0</th>\n",
              "      <td>Mazda RX4</td>\n",
              "      <td>21.0</td>\n",
              "      <td>6</td>\n",
              "      <td>160.0</td>\n",
              "      <td>110</td>\n",
              "      <td>3.90</td>\n",
              "      <td>2.620</td>\n",
              "      <td>16.46</td>\n",
              "      <td>0</td>\n",
              "      <td>1</td>\n",
              "      <td>4</td>\n",
              "      <td>4</td>\n",
              "    </tr>\n",
              "    <tr>\n",
              "      <th>1</th>\n",
              "      <td>Mazda RX4 Wag</td>\n",
              "      <td>21.0</td>\n",
              "      <td>6</td>\n",
              "      <td>160.0</td>\n",
              "      <td>110</td>\n",
              "      <td>3.90</td>\n",
              "      <td>2.875</td>\n",
              "      <td>17.02</td>\n",
              "      <td>0</td>\n",
              "      <td>1</td>\n",
              "      <td>4</td>\n",
              "      <td>4</td>\n",
              "    </tr>\n",
              "    <tr>\n",
              "      <th>2</th>\n",
              "      <td>Datsun 710</td>\n",
              "      <td>22.8</td>\n",
              "      <td>4</td>\n",
              "      <td>108.0</td>\n",
              "      <td>93</td>\n",
              "      <td>3.85</td>\n",
              "      <td>2.320</td>\n",
              "      <td>18.61</td>\n",
              "      <td>1</td>\n",
              "      <td>1</td>\n",
              "      <td>4</td>\n",
              "      <td>1</td>\n",
              "    </tr>\n",
              "    <tr>\n",
              "      <th>3</th>\n",
              "      <td>Hornet 4 Drive</td>\n",
              "      <td>21.4</td>\n",
              "      <td>6</td>\n",
              "      <td>258.0</td>\n",
              "      <td>110</td>\n",
              "      <td>3.08</td>\n",
              "      <td>3.215</td>\n",
              "      <td>19.44</td>\n",
              "      <td>1</td>\n",
              "      <td>0</td>\n",
              "      <td>3</td>\n",
              "      <td>1</td>\n",
              "    </tr>\n",
              "    <tr>\n",
              "      <th>4</th>\n",
              "      <td>Hornet Sportabout</td>\n",
              "      <td>18.7</td>\n",
              "      <td>8</td>\n",
              "      <td>360.0</td>\n",
              "      <td>175</td>\n",
              "      <td>3.15</td>\n",
              "      <td>3.440</td>\n",
              "      <td>17.02</td>\n",
              "      <td>0</td>\n",
              "      <td>0</td>\n",
              "      <td>3</td>\n",
              "      <td>2</td>\n",
              "    </tr>\n",
              "  </tbody>\n",
              "</table>\n",
              "</div>\n",
              "    <div class=\"colab-df-buttons\">\n",
              "\n",
              "  <div class=\"colab-df-container\">\n",
              "    <button class=\"colab-df-convert\" onclick=\"convertToInteractive('df-b164125a-9ccd-4eb6-a575-668280a733f8')\"\n",
              "            title=\"Convert this dataframe to an interactive table.\"\n",
              "            style=\"display:none;\">\n",
              "\n",
              "  <svg xmlns=\"http://www.w3.org/2000/svg\" height=\"24px\" viewBox=\"0 -960 960 960\">\n",
              "    <path d=\"M120-120v-720h720v720H120Zm60-500h600v-160H180v160Zm220 220h160v-160H400v160Zm0 220h160v-160H400v160ZM180-400h160v-160H180v160Zm440 0h160v-160H620v160ZM180-180h160v-160H180v160Zm440 0h160v-160H620v160Z\"/>\n",
              "  </svg>\n",
              "    </button>\n",
              "\n",
              "  <style>\n",
              "    .colab-df-container {\n",
              "      display:flex;\n",
              "      gap: 12px;\n",
              "    }\n",
              "\n",
              "    .colab-df-convert {\n",
              "      background-color: #E8F0FE;\n",
              "      border: none;\n",
              "      border-radius: 50%;\n",
              "      cursor: pointer;\n",
              "      display: none;\n",
              "      fill: #1967D2;\n",
              "      height: 32px;\n",
              "      padding: 0 0 0 0;\n",
              "      width: 32px;\n",
              "    }\n",
              "\n",
              "    .colab-df-convert:hover {\n",
              "      background-color: #E2EBFA;\n",
              "      box-shadow: 0px 1px 2px rgba(60, 64, 67, 0.3), 0px 1px 3px 1px rgba(60, 64, 67, 0.15);\n",
              "      fill: #174EA6;\n",
              "    }\n",
              "\n",
              "    .colab-df-buttons div {\n",
              "      margin-bottom: 4px;\n",
              "    }\n",
              "\n",
              "    [theme=dark] .colab-df-convert {\n",
              "      background-color: #3B4455;\n",
              "      fill: #D2E3FC;\n",
              "    }\n",
              "\n",
              "    [theme=dark] .colab-df-convert:hover {\n",
              "      background-color: #434B5C;\n",
              "      box-shadow: 0px 1px 3px 1px rgba(0, 0, 0, 0.15);\n",
              "      filter: drop-shadow(0px 1px 2px rgba(0, 0, 0, 0.3));\n",
              "      fill: #FFFFFF;\n",
              "    }\n",
              "  </style>\n",
              "\n",
              "    <script>\n",
              "      const buttonEl =\n",
              "        document.querySelector('#df-b164125a-9ccd-4eb6-a575-668280a733f8 button.colab-df-convert');\n",
              "      buttonEl.style.display =\n",
              "        google.colab.kernel.accessAllowed ? 'block' : 'none';\n",
              "\n",
              "      async function convertToInteractive(key) {\n",
              "        const element = document.querySelector('#df-b164125a-9ccd-4eb6-a575-668280a733f8');\n",
              "        const dataTable =\n",
              "          await google.colab.kernel.invokeFunction('convertToInteractive',\n",
              "                                                    [key], {});\n",
              "        if (!dataTable) return;\n",
              "\n",
              "        const docLinkHtml = 'Like what you see? Visit the ' +\n",
              "          '<a target=\"_blank\" href=https://colab.research.google.com/notebooks/data_table.ipynb>data table notebook</a>'\n",
              "          + ' to learn more about interactive tables.';\n",
              "        element.innerHTML = '';\n",
              "        dataTable['output_type'] = 'display_data';\n",
              "        await google.colab.output.renderOutput(dataTable, element);\n",
              "        const docLink = document.createElement('div');\n",
              "        docLink.innerHTML = docLinkHtml;\n",
              "        element.appendChild(docLink);\n",
              "      }\n",
              "    </script>\n",
              "  </div>\n",
              "\n",
              "\n",
              "<div id=\"df-324ed737-1455-4b9a-aac5-1336c6855e90\">\n",
              "  <button class=\"colab-df-quickchart\" onclick=\"quickchart('df-324ed737-1455-4b9a-aac5-1336c6855e90')\"\n",
              "            title=\"Suggest charts.\"\n",
              "            style=\"display:none;\">\n",
              "\n",
              "<svg xmlns=\"http://www.w3.org/2000/svg\" height=\"24px\"viewBox=\"0 0 24 24\"\n",
              "     width=\"24px\">\n",
              "    <g>\n",
              "        <path d=\"M19 3H5c-1.1 0-2 .9-2 2v14c0 1.1.9 2 2 2h14c1.1 0 2-.9 2-2V5c0-1.1-.9-2-2-2zM9 17H7v-7h2v7zm4 0h-2V7h2v10zm4 0h-2v-4h2v4z\"/>\n",
              "    </g>\n",
              "</svg>\n",
              "  </button>\n",
              "\n",
              "<style>\n",
              "  .colab-df-quickchart {\n",
              "      --bg-color: #E8F0FE;\n",
              "      --fill-color: #1967D2;\n",
              "      --hover-bg-color: #E2EBFA;\n",
              "      --hover-fill-color: #174EA6;\n",
              "      --disabled-fill-color: #AAA;\n",
              "      --disabled-bg-color: #DDD;\n",
              "  }\n",
              "\n",
              "  [theme=dark] .colab-df-quickchart {\n",
              "      --bg-color: #3B4455;\n",
              "      --fill-color: #D2E3FC;\n",
              "      --hover-bg-color: #434B5C;\n",
              "      --hover-fill-color: #FFFFFF;\n",
              "      --disabled-bg-color: #3B4455;\n",
              "      --disabled-fill-color: #666;\n",
              "  }\n",
              "\n",
              "  .colab-df-quickchart {\n",
              "    background-color: var(--bg-color);\n",
              "    border: none;\n",
              "    border-radius: 50%;\n",
              "    cursor: pointer;\n",
              "    display: none;\n",
              "    fill: var(--fill-color);\n",
              "    height: 32px;\n",
              "    padding: 0;\n",
              "    width: 32px;\n",
              "  }\n",
              "\n",
              "  .colab-df-quickchart:hover {\n",
              "    background-color: var(--hover-bg-color);\n",
              "    box-shadow: 0 1px 2px rgba(60, 64, 67, 0.3), 0 1px 3px 1px rgba(60, 64, 67, 0.15);\n",
              "    fill: var(--button-hover-fill-color);\n",
              "  }\n",
              "\n",
              "  .colab-df-quickchart-complete:disabled,\n",
              "  .colab-df-quickchart-complete:disabled:hover {\n",
              "    background-color: var(--disabled-bg-color);\n",
              "    fill: var(--disabled-fill-color);\n",
              "    box-shadow: none;\n",
              "  }\n",
              "\n",
              "  .colab-df-spinner {\n",
              "    border: 2px solid var(--fill-color);\n",
              "    border-color: transparent;\n",
              "    border-bottom-color: var(--fill-color);\n",
              "    animation:\n",
              "      spin 1s steps(1) infinite;\n",
              "  }\n",
              "\n",
              "  @keyframes spin {\n",
              "    0% {\n",
              "      border-color: transparent;\n",
              "      border-bottom-color: var(--fill-color);\n",
              "      border-left-color: var(--fill-color);\n",
              "    }\n",
              "    20% {\n",
              "      border-color: transparent;\n",
              "      border-left-color: var(--fill-color);\n",
              "      border-top-color: var(--fill-color);\n",
              "    }\n",
              "    30% {\n",
              "      border-color: transparent;\n",
              "      border-left-color: var(--fill-color);\n",
              "      border-top-color: var(--fill-color);\n",
              "      border-right-color: var(--fill-color);\n",
              "    }\n",
              "    40% {\n",
              "      border-color: transparent;\n",
              "      border-right-color: var(--fill-color);\n",
              "      border-top-color: var(--fill-color);\n",
              "    }\n",
              "    60% {\n",
              "      border-color: transparent;\n",
              "      border-right-color: var(--fill-color);\n",
              "    }\n",
              "    80% {\n",
              "      border-color: transparent;\n",
              "      border-right-color: var(--fill-color);\n",
              "      border-bottom-color: var(--fill-color);\n",
              "    }\n",
              "    90% {\n",
              "      border-color: transparent;\n",
              "      border-bottom-color: var(--fill-color);\n",
              "    }\n",
              "  }\n",
              "</style>\n",
              "\n",
              "  <script>\n",
              "    async function quickchart(key) {\n",
              "      const quickchartButtonEl =\n",
              "        document.querySelector('#' + key + ' button');\n",
              "      quickchartButtonEl.disabled = true;  // To prevent multiple clicks.\n",
              "      quickchartButtonEl.classList.add('colab-df-spinner');\n",
              "      try {\n",
              "        const charts = await google.colab.kernel.invokeFunction(\n",
              "            'suggestCharts', [key], {});\n",
              "      } catch (error) {\n",
              "        console.error('Error during call to suggestCharts:', error);\n",
              "      }\n",
              "      quickchartButtonEl.classList.remove('colab-df-spinner');\n",
              "      quickchartButtonEl.classList.add('colab-df-quickchart-complete');\n",
              "    }\n",
              "    (() => {\n",
              "      let quickchartButtonEl =\n",
              "        document.querySelector('#df-324ed737-1455-4b9a-aac5-1336c6855e90 button');\n",
              "      quickchartButtonEl.style.display =\n",
              "        google.colab.kernel.accessAllowed ? 'block' : 'none';\n",
              "    })();\n",
              "  </script>\n",
              "</div>\n",
              "    </div>\n",
              "  </div>\n"
            ]
          },
          "metadata": {},
          "execution_count": 1776
        }
      ],
      "source": [
        "###############################################\n",
        "# Motor Trend Car Road Tests\n",
        "# Description\n",
        "# The data was extracted from the 1974 Motor Trend US magazine, and comprises fuel consumption and 10 aspects of automobile design and performance for 32 automobiles (1973–74 models).\n",
        "#\n",
        "# Format\n",
        "# A data frame with 32 observations on 11 (numeric) variables.\n",
        "#\n",
        "# [, 1]\tmpg\tMiles/(US) gallon\n",
        "# [, 2]\tcyl\tNumber of cylinders\n",
        "# [, 3]\tdisp\tDisplacement (cu.in.)\n",
        "# [, 4]\thp\tGross horsepower\n",
        "# [, 5]\tdrat\tRear axle ratio\n",
        "# [, 6]\twt\tWeight (1000 lbs)\n",
        "# [, 7]\tqsec\t1/4 mile time\n",
        "# [, 8]\tvs\tEngine (0 = V-shaped, 1 = straight)\n",
        "# [, 9]\tam\tTransmission (0 = automatic, 1 = manual)\n",
        "# [,10]\tgear\tNumber of forward gears\n",
        "# [,11]\tcarb\tNumber of carburetors\n",
        "###############################################\n",
        "\n",
        "mtcars = pd.read_csv(\"mtcars.csv\")\n",
        "mtcars.head()"
      ]
    },
    {
      "cell_type": "markdown",
      "metadata": {
        "id": "_4naEWMGMnbe"
      },
      "source": [
        "Posteriormente, vamos utilizar os valores mínimos e máximos de algumas das colunas para plotar os gráficos. A maneira mais fácil de obter esses valores é usando o comando *describe*, como mostrado abaixo."
      ]
    },
    {
      "cell_type": "code",
      "execution_count": null,
      "metadata": {
        "colab": {
          "base_uri": "https://localhost:8080/",
          "height": 300
        },
        "id": "8vsPXiAHMnbe",
        "outputId": "98faf501-885d-4f20-cea8-f32fa457c90e"
      },
      "outputs": [
        {
          "output_type": "execute_result",
          "data": {
            "text/plain": [
              "             mpg        cyl        disp          hp       drat         wt  \\\n",
              "count  32.000000  32.000000   32.000000   32.000000  32.000000  32.000000   \n",
              "mean   20.090625   6.187500  230.721875  146.687500   3.596563   3.217250   \n",
              "std     6.026948   1.785922  123.938694   68.562868   0.534679   0.978457   \n",
              "min    10.400000   4.000000   71.100000   52.000000   2.760000   1.513000   \n",
              "25%    15.425000   4.000000  120.825000   96.500000   3.080000   2.581250   \n",
              "50%    19.200000   6.000000  196.300000  123.000000   3.695000   3.325000   \n",
              "75%    22.800000   8.000000  326.000000  180.000000   3.920000   3.610000   \n",
              "max    33.900000   8.000000  472.000000  335.000000   4.930000   5.424000   \n",
              "\n",
              "            qsec         vs         am       gear     carb  \n",
              "count  32.000000  32.000000  32.000000  32.000000  32.0000  \n",
              "mean   17.848750   0.437500   0.406250   3.687500   2.8125  \n",
              "std     1.786943   0.504016   0.498991   0.737804   1.6152  \n",
              "min    14.500000   0.000000   0.000000   3.000000   1.0000  \n",
              "25%    16.892500   0.000000   0.000000   3.000000   2.0000  \n",
              "50%    17.710000   0.000000   0.000000   4.000000   2.0000  \n",
              "75%    18.900000   1.000000   1.000000   4.000000   4.0000  \n",
              "max    22.900000   1.000000   1.000000   5.000000   8.0000  "
            ],
            "text/html": [
              "\n",
              "  <div id=\"df-d052fbed-8034-4718-bafe-55945ed5f63e\" class=\"colab-df-container\">\n",
              "    <div>\n",
              "<style scoped>\n",
              "    .dataframe tbody tr th:only-of-type {\n",
              "        vertical-align: middle;\n",
              "    }\n",
              "\n",
              "    .dataframe tbody tr th {\n",
              "        vertical-align: top;\n",
              "    }\n",
              "\n",
              "    .dataframe thead th {\n",
              "        text-align: right;\n",
              "    }\n",
              "</style>\n",
              "<table border=\"1\" class=\"dataframe\">\n",
              "  <thead>\n",
              "    <tr style=\"text-align: right;\">\n",
              "      <th></th>\n",
              "      <th>mpg</th>\n",
              "      <th>cyl</th>\n",
              "      <th>disp</th>\n",
              "      <th>hp</th>\n",
              "      <th>drat</th>\n",
              "      <th>wt</th>\n",
              "      <th>qsec</th>\n",
              "      <th>vs</th>\n",
              "      <th>am</th>\n",
              "      <th>gear</th>\n",
              "      <th>carb</th>\n",
              "    </tr>\n",
              "  </thead>\n",
              "  <tbody>\n",
              "    <tr>\n",
              "      <th>count</th>\n",
              "      <td>32.000000</td>\n",
              "      <td>32.000000</td>\n",
              "      <td>32.000000</td>\n",
              "      <td>32.000000</td>\n",
              "      <td>32.000000</td>\n",
              "      <td>32.000000</td>\n",
              "      <td>32.000000</td>\n",
              "      <td>32.000000</td>\n",
              "      <td>32.000000</td>\n",
              "      <td>32.000000</td>\n",
              "      <td>32.0000</td>\n",
              "    </tr>\n",
              "    <tr>\n",
              "      <th>mean</th>\n",
              "      <td>20.090625</td>\n",
              "      <td>6.187500</td>\n",
              "      <td>230.721875</td>\n",
              "      <td>146.687500</td>\n",
              "      <td>3.596563</td>\n",
              "      <td>3.217250</td>\n",
              "      <td>17.848750</td>\n",
              "      <td>0.437500</td>\n",
              "      <td>0.406250</td>\n",
              "      <td>3.687500</td>\n",
              "      <td>2.8125</td>\n",
              "    </tr>\n",
              "    <tr>\n",
              "      <th>std</th>\n",
              "      <td>6.026948</td>\n",
              "      <td>1.785922</td>\n",
              "      <td>123.938694</td>\n",
              "      <td>68.562868</td>\n",
              "      <td>0.534679</td>\n",
              "      <td>0.978457</td>\n",
              "      <td>1.786943</td>\n",
              "      <td>0.504016</td>\n",
              "      <td>0.498991</td>\n",
              "      <td>0.737804</td>\n",
              "      <td>1.6152</td>\n",
              "    </tr>\n",
              "    <tr>\n",
              "      <th>min</th>\n",
              "      <td>10.400000</td>\n",
              "      <td>4.000000</td>\n",
              "      <td>71.100000</td>\n",
              "      <td>52.000000</td>\n",
              "      <td>2.760000</td>\n",
              "      <td>1.513000</td>\n",
              "      <td>14.500000</td>\n",
              "      <td>0.000000</td>\n",
              "      <td>0.000000</td>\n",
              "      <td>3.000000</td>\n",
              "      <td>1.0000</td>\n",
              "    </tr>\n",
              "    <tr>\n",
              "      <th>25%</th>\n",
              "      <td>15.425000</td>\n",
              "      <td>4.000000</td>\n",
              "      <td>120.825000</td>\n",
              "      <td>96.500000</td>\n",
              "      <td>3.080000</td>\n",
              "      <td>2.581250</td>\n",
              "      <td>16.892500</td>\n",
              "      <td>0.000000</td>\n",
              "      <td>0.000000</td>\n",
              "      <td>3.000000</td>\n",
              "      <td>2.0000</td>\n",
              "    </tr>\n",
              "    <tr>\n",
              "      <th>50%</th>\n",
              "      <td>19.200000</td>\n",
              "      <td>6.000000</td>\n",
              "      <td>196.300000</td>\n",
              "      <td>123.000000</td>\n",
              "      <td>3.695000</td>\n",
              "      <td>3.325000</td>\n",
              "      <td>17.710000</td>\n",
              "      <td>0.000000</td>\n",
              "      <td>0.000000</td>\n",
              "      <td>4.000000</td>\n",
              "      <td>2.0000</td>\n",
              "    </tr>\n",
              "    <tr>\n",
              "      <th>75%</th>\n",
              "      <td>22.800000</td>\n",
              "      <td>8.000000</td>\n",
              "      <td>326.000000</td>\n",
              "      <td>180.000000</td>\n",
              "      <td>3.920000</td>\n",
              "      <td>3.610000</td>\n",
              "      <td>18.900000</td>\n",
              "      <td>1.000000</td>\n",
              "      <td>1.000000</td>\n",
              "      <td>4.000000</td>\n",
              "      <td>4.0000</td>\n",
              "    </tr>\n",
              "    <tr>\n",
              "      <th>max</th>\n",
              "      <td>33.900000</td>\n",
              "      <td>8.000000</td>\n",
              "      <td>472.000000</td>\n",
              "      <td>335.000000</td>\n",
              "      <td>4.930000</td>\n",
              "      <td>5.424000</td>\n",
              "      <td>22.900000</td>\n",
              "      <td>1.000000</td>\n",
              "      <td>1.000000</td>\n",
              "      <td>5.000000</td>\n",
              "      <td>8.0000</td>\n",
              "    </tr>\n",
              "  </tbody>\n",
              "</table>\n",
              "</div>\n",
              "    <div class=\"colab-df-buttons\">\n",
              "\n",
              "  <div class=\"colab-df-container\">\n",
              "    <button class=\"colab-df-convert\" onclick=\"convertToInteractive('df-d052fbed-8034-4718-bafe-55945ed5f63e')\"\n",
              "            title=\"Convert this dataframe to an interactive table.\"\n",
              "            style=\"display:none;\">\n",
              "\n",
              "  <svg xmlns=\"http://www.w3.org/2000/svg\" height=\"24px\" viewBox=\"0 -960 960 960\">\n",
              "    <path d=\"M120-120v-720h720v720H120Zm60-500h600v-160H180v160Zm220 220h160v-160H400v160Zm0 220h160v-160H400v160ZM180-400h160v-160H180v160Zm440 0h160v-160H620v160ZM180-180h160v-160H180v160Zm440 0h160v-160H620v160Z\"/>\n",
              "  </svg>\n",
              "    </button>\n",
              "\n",
              "  <style>\n",
              "    .colab-df-container {\n",
              "      display:flex;\n",
              "      gap: 12px;\n",
              "    }\n",
              "\n",
              "    .colab-df-convert {\n",
              "      background-color: #E8F0FE;\n",
              "      border: none;\n",
              "      border-radius: 50%;\n",
              "      cursor: pointer;\n",
              "      display: none;\n",
              "      fill: #1967D2;\n",
              "      height: 32px;\n",
              "      padding: 0 0 0 0;\n",
              "      width: 32px;\n",
              "    }\n",
              "\n",
              "    .colab-df-convert:hover {\n",
              "      background-color: #E2EBFA;\n",
              "      box-shadow: 0px 1px 2px rgba(60, 64, 67, 0.3), 0px 1px 3px 1px rgba(60, 64, 67, 0.15);\n",
              "      fill: #174EA6;\n",
              "    }\n",
              "\n",
              "    .colab-df-buttons div {\n",
              "      margin-bottom: 4px;\n",
              "    }\n",
              "\n",
              "    [theme=dark] .colab-df-convert {\n",
              "      background-color: #3B4455;\n",
              "      fill: #D2E3FC;\n",
              "    }\n",
              "\n",
              "    [theme=dark] .colab-df-convert:hover {\n",
              "      background-color: #434B5C;\n",
              "      box-shadow: 0px 1px 3px 1px rgba(0, 0, 0, 0.15);\n",
              "      filter: drop-shadow(0px 1px 2px rgba(0, 0, 0, 0.3));\n",
              "      fill: #FFFFFF;\n",
              "    }\n",
              "  </style>\n",
              "\n",
              "    <script>\n",
              "      const buttonEl =\n",
              "        document.querySelector('#df-d052fbed-8034-4718-bafe-55945ed5f63e button.colab-df-convert');\n",
              "      buttonEl.style.display =\n",
              "        google.colab.kernel.accessAllowed ? 'block' : 'none';\n",
              "\n",
              "      async function convertToInteractive(key) {\n",
              "        const element = document.querySelector('#df-d052fbed-8034-4718-bafe-55945ed5f63e');\n",
              "        const dataTable =\n",
              "          await google.colab.kernel.invokeFunction('convertToInteractive',\n",
              "                                                    [key], {});\n",
              "        if (!dataTable) return;\n",
              "\n",
              "        const docLinkHtml = 'Like what you see? Visit the ' +\n",
              "          '<a target=\"_blank\" href=https://colab.research.google.com/notebooks/data_table.ipynb>data table notebook</a>'\n",
              "          + ' to learn more about interactive tables.';\n",
              "        element.innerHTML = '';\n",
              "        dataTable['output_type'] = 'display_data';\n",
              "        await google.colab.output.renderOutput(dataTable, element);\n",
              "        const docLink = document.createElement('div');\n",
              "        docLink.innerHTML = docLinkHtml;\n",
              "        element.appendChild(docLink);\n",
              "      }\n",
              "    </script>\n",
              "  </div>\n",
              "\n",
              "\n",
              "<div id=\"df-e6dc6d0f-fdcd-4913-b2a6-67ddfaf202f5\">\n",
              "  <button class=\"colab-df-quickchart\" onclick=\"quickchart('df-e6dc6d0f-fdcd-4913-b2a6-67ddfaf202f5')\"\n",
              "            title=\"Suggest charts.\"\n",
              "            style=\"display:none;\">\n",
              "\n",
              "<svg xmlns=\"http://www.w3.org/2000/svg\" height=\"24px\"viewBox=\"0 0 24 24\"\n",
              "     width=\"24px\">\n",
              "    <g>\n",
              "        <path d=\"M19 3H5c-1.1 0-2 .9-2 2v14c0 1.1.9 2 2 2h14c1.1 0 2-.9 2-2V5c0-1.1-.9-2-2-2zM9 17H7v-7h2v7zm4 0h-2V7h2v10zm4 0h-2v-4h2v4z\"/>\n",
              "    </g>\n",
              "</svg>\n",
              "  </button>\n",
              "\n",
              "<style>\n",
              "  .colab-df-quickchart {\n",
              "      --bg-color: #E8F0FE;\n",
              "      --fill-color: #1967D2;\n",
              "      --hover-bg-color: #E2EBFA;\n",
              "      --hover-fill-color: #174EA6;\n",
              "      --disabled-fill-color: #AAA;\n",
              "      --disabled-bg-color: #DDD;\n",
              "  }\n",
              "\n",
              "  [theme=dark] .colab-df-quickchart {\n",
              "      --bg-color: #3B4455;\n",
              "      --fill-color: #D2E3FC;\n",
              "      --hover-bg-color: #434B5C;\n",
              "      --hover-fill-color: #FFFFFF;\n",
              "      --disabled-bg-color: #3B4455;\n",
              "      --disabled-fill-color: #666;\n",
              "  }\n",
              "\n",
              "  .colab-df-quickchart {\n",
              "    background-color: var(--bg-color);\n",
              "    border: none;\n",
              "    border-radius: 50%;\n",
              "    cursor: pointer;\n",
              "    display: none;\n",
              "    fill: var(--fill-color);\n",
              "    height: 32px;\n",
              "    padding: 0;\n",
              "    width: 32px;\n",
              "  }\n",
              "\n",
              "  .colab-df-quickchart:hover {\n",
              "    background-color: var(--hover-bg-color);\n",
              "    box-shadow: 0 1px 2px rgba(60, 64, 67, 0.3), 0 1px 3px 1px rgba(60, 64, 67, 0.15);\n",
              "    fill: var(--button-hover-fill-color);\n",
              "  }\n",
              "\n",
              "  .colab-df-quickchart-complete:disabled,\n",
              "  .colab-df-quickchart-complete:disabled:hover {\n",
              "    background-color: var(--disabled-bg-color);\n",
              "    fill: var(--disabled-fill-color);\n",
              "    box-shadow: none;\n",
              "  }\n",
              "\n",
              "  .colab-df-spinner {\n",
              "    border: 2px solid var(--fill-color);\n",
              "    border-color: transparent;\n",
              "    border-bottom-color: var(--fill-color);\n",
              "    animation:\n",
              "      spin 1s steps(1) infinite;\n",
              "  }\n",
              "\n",
              "  @keyframes spin {\n",
              "    0% {\n",
              "      border-color: transparent;\n",
              "      border-bottom-color: var(--fill-color);\n",
              "      border-left-color: var(--fill-color);\n",
              "    }\n",
              "    20% {\n",
              "      border-color: transparent;\n",
              "      border-left-color: var(--fill-color);\n",
              "      border-top-color: var(--fill-color);\n",
              "    }\n",
              "    30% {\n",
              "      border-color: transparent;\n",
              "      border-left-color: var(--fill-color);\n",
              "      border-top-color: var(--fill-color);\n",
              "      border-right-color: var(--fill-color);\n",
              "    }\n",
              "    40% {\n",
              "      border-color: transparent;\n",
              "      border-right-color: var(--fill-color);\n",
              "      border-top-color: var(--fill-color);\n",
              "    }\n",
              "    60% {\n",
              "      border-color: transparent;\n",
              "      border-right-color: var(--fill-color);\n",
              "    }\n",
              "    80% {\n",
              "      border-color: transparent;\n",
              "      border-right-color: var(--fill-color);\n",
              "      border-bottom-color: var(--fill-color);\n",
              "    }\n",
              "    90% {\n",
              "      border-color: transparent;\n",
              "      border-bottom-color: var(--fill-color);\n",
              "    }\n",
              "  }\n",
              "</style>\n",
              "\n",
              "  <script>\n",
              "    async function quickchart(key) {\n",
              "      const quickchartButtonEl =\n",
              "        document.querySelector('#' + key + ' button');\n",
              "      quickchartButtonEl.disabled = true;  // To prevent multiple clicks.\n",
              "      quickchartButtonEl.classList.add('colab-df-spinner');\n",
              "      try {\n",
              "        const charts = await google.colab.kernel.invokeFunction(\n",
              "            'suggestCharts', [key], {});\n",
              "      } catch (error) {\n",
              "        console.error('Error during call to suggestCharts:', error);\n",
              "      }\n",
              "      quickchartButtonEl.classList.remove('colab-df-spinner');\n",
              "      quickchartButtonEl.classList.add('colab-df-quickchart-complete');\n",
              "    }\n",
              "    (() => {\n",
              "      let quickchartButtonEl =\n",
              "        document.querySelector('#df-e6dc6d0f-fdcd-4913-b2a6-67ddfaf202f5 button');\n",
              "      quickchartButtonEl.style.display =\n",
              "        google.colab.kernel.accessAllowed ? 'block' : 'none';\n",
              "    })();\n",
              "  </script>\n",
              "</div>\n",
              "    </div>\n",
              "  </div>\n"
            ]
          },
          "metadata": {},
          "execution_count": 1777
        }
      ],
      "source": [
        "mtcars.describe()"
      ]
    },
    {
      "cell_type": "markdown",
      "metadata": {
        "id": "1RzF0c5MweaU"
      },
      "source": [
        "## Gráficos do Banco de Dados\n",
        "\n",
        "Vamos utilizar gráficos de pontos (*scatter plots*) para mostrar detalhes importantes do banco de dados. Para deixar as coisas mais claras, vamos personalizar o gráfico de pontos para adicionar novos elementos, como cor e tamanho dos pontos, o que vai ajudar a fornecer informações adicionais e melhorar a legibilidade dos dados.\n",
        "\n",
        "Primeiramente, vamos plotar as variáveis *qsec* e *mpg* em um plano cartesiano.\n",
        "\n",
        "* A variável *qsec* corresponde ao tempo em segundos que o carro demora para percorrer 1/4 de milha em metros, algo próximo de 400 metros neste caso.\n",
        "* A variável *mpg* corresponde à distância que o carro percorre com um galão. Uma milha corresponde a $1.61$ quilômetros, e um galão corresponde a $3.78$ litros, o que ajuda a entender mais ou menos o que os valores estão dizendo."
      ]
    },
    {
      "cell_type": "code",
      "execution_count": null,
      "metadata": {
        "colab": {
          "base_uri": "https://localhost:8080/",
          "height": 471
        },
        "id": "4rQiv2Pswyrc",
        "outputId": "70a5b0bc-33ea-4aae-c51a-d478d5daaba2"
      },
      "outputs": [
        {
          "output_type": "execute_result",
          "data": {
            "text/plain": [
              "<Axes: xlabel='qsec', ylabel='mpg'>"
            ]
          },
          "metadata": {},
          "execution_count": 1778
        },
        {
          "output_type": "display_data",
          "data": {
            "text/plain": [
              "<Figure size 640x480 with 1 Axes>"
            ],
            "image/png": "[encoded data removed]"
          },
          "metadata": {}
        }
      ],
      "source": [
        "## Um gráfico sem personalização diz muito menos do que poderia\n",
        "mtcars.plot.scatter(x = \"qsec\",\n",
        "                    y = \"mpg\")"
      ]
    },
    {
      "cell_type": "markdown",
      "metadata": {
        "id": "4-fy3hJnMnbf"
      },
      "source": [
        "O gráfico acima não parece dizer muita coisa, dado que os pontos estão espalhados. Entretanto, é de se supor que as duas variáveis deveriam estar relacionadas se fixarmos algum modelo de carro ou analisarmos alguma propriedade. Nesse caso, vamos acrescentar novos elementos para entender a relação.\n",
        "\n",
        "Os carros no banco de dados possuem diferentes potências, o que interfere muito em como se comportam. O banco de dados possui carros com potências definidas em *hp* (horse power) na coluna de mesmo nome.\n",
        "\n",
        "Colocamos agora potência do carro na cor dos pontos. Veja o gráfico gerado. Note que para podermos gerar um grupo de cores padronizadas tivemos também que configurar *vmin* e *vmax* com os valores mínimos e máximos de *hp*, respectivamente."
      ]
    },
    {
      "cell_type": "code",
      "execution_count": null,
      "metadata": {
        "colab": {
          "base_uri": "https://localhost:8080/",
          "height": 471
        },
        "id": "6IAvshcPxD36",
        "outputId": "6bb81b4d-ff0d-4642-8218-b53309d96f01"
      },
      "outputs": [
        {
          "output_type": "execute_result",
          "data": {
            "text/plain": [
              "<Axes: xlabel='qsec', ylabel='mpg'>"
            ]
          },
          "metadata": {},
          "execution_count": 1779
        },
        {
          "output_type": "display_data",
          "data": {
            "text/plain": [
              "<Figure size 640x480 with 2 Axes>"
            ],
            "image/png": "[encoded data removed]"
          },
          "metadata": {}
        }
      ],
      "source": [
        "## Com cores podemos contar uma história diferente.\n",
        "mtcars.plot.scatter(x = \"qsec\",\n",
        "                    y = \"mpg\",\n",
        "                    c = \"hp\",\n",
        "                    vmin = 52, # min de hp no banco\n",
        "                    vmax = 335, # max de hp no banco\n",
        "                    colormap='viridis')"
      ]
    },
    {
      "cell_type": "markdown",
      "metadata": {
        "id": "ITHVkZo0Mnbg"
      },
      "source": [
        "Agora já é possível ver que realmente existe uma relação entre *mpg* e *qsec* quando levamos em conta a potência. Os carros mais potentes estão agrupados no quadrante inferior esquerdo, enquanto que os carros menos potentes estão no quadrante superior direito. A potência então é um fator que interfere tanto em *mpg* quanto em *qsec*.\n",
        "\n",
        "Um outro fator que podemos visualizar é o tamanho do motor, dado pela coluna *disp*. O tamanho está em *cu.in*, que pode ser transformado em litros, por exemplo. Vamos fazer agora com que os tamanhos dos círculos correspondam ao tamanho do motor:"
      ]
    },
    {
      "cell_type": "code",
      "execution_count": null,
      "metadata": {
        "colab": {
          "base_uri": "https://localhost:8080/",
          "height": 471
        },
        "id": "ExpD6jUbxdg8",
        "outputId": "a2a6a816-22b0-4027-e53b-0705405bfb17"
      },
      "outputs": [
        {
          "output_type": "execute_result",
          "data": {
            "text/plain": [
              "<Axes: xlabel='qsec', ylabel='mpg'>"
            ]
          },
          "metadata": {},
          "execution_count": 1780
        },
        {
          "output_type": "display_data",
          "data": {
            "text/plain": [
              "<Figure size 640x480 with 2 Axes>"
            ],
            "image/png": "[encoded data removed]"
          },
          "metadata": {}
        }
      ],
      "source": [
        "## Podemos ainda usar o tamanho dos pontos para\n",
        "## entender melhor os dados\n",
        "mtcars.plot.scatter(x = \"qsec\",\n",
        "                    y = \"mpg\",\n",
        "                    c = \"hp\",\n",
        "                    vmin = 52, # min de hp no banco\n",
        "                    vmax = 335, # max de hp no banco\n",
        "                    colormap='viridis',\n",
        "                    s = \"disp\",\n",
        "                    edgecolor = \"black\")"
      ]
    },
    {
      "cell_type": "markdown",
      "metadata": {
        "id": "K-VfMv3WMnbg"
      },
      "source": [
        "## Gráfico de um Oráculo\n",
        "\n",
        "Vamos supor agora que temos um oráculo que recebe valores para *qsec*, *mpg* e *disp* para devolver a potência do carro em *hp*. Um oráculo desse tipo pode criado, por exemplo, com uma regressão linear, do mesmo modo que aprendemos em sala de aula.\n",
        "\n",
        "Para saber se o oráculo está funcionando corretamente, podemos então analisar o seu resultado plotando os seus valores. Por exemplo, vamos assumir o oráculo de teste a seguir:"
      ]
    },
    {
      "cell_type": "code",
      "execution_count": null,
      "metadata": {
        "id": "nrfRgY1jMnbg"
      },
      "outputs": [],
      "source": [
        "oraculo = lambda qsec, mpg, disp :  (1/qsec)*(1/mpg)*disp*175"
      ]
    },
    {
      "cell_type": "markdown",
      "metadata": {
        "id": "HagYMxuKMnbg"
      },
      "source": [
        "Podemos criar um gráfico com o oráculo com esses valores para verificar se ele parece estar fazendo um bom trabalho."
      ]
    },
    {
      "cell_type": "code",
      "execution_count": null,
      "metadata": {
        "colab": {
          "base_uri": "https://localhost:8080/",
          "height": 451
        },
        "id": "gnV8gaexMnbg",
        "outputId": "5ff69d09-4023-4312-83ad-7e0b775df31f"
      },
      "outputs": [
        {
          "output_type": "execute_result",
          "data": {
            "text/plain": [
              "<matplotlib.collections.PathCollection at 0x7d1dd0c42e00>"
            ]
          },
          "metadata": {},
          "execution_count": 1782
        },
        {
          "output_type": "display_data",
          "data": {
            "text/plain": [
              "<Figure size 640x480 with 1 Axes>"
            ],
            "image/png": "[encoded data removed]"
          },
          "metadata": {}
        }
      ],
      "source": [
        "## Plotando o oráculo\n",
        "eixo_qsec = []\n",
        "eixo_mpg  = []\n",
        "eixo_disp = []\n",
        "eixo_hp   = []\n",
        "\n",
        "for i, row in mtcars.iterrows() :\n",
        "    qsec = row[\"qsec\"]\n",
        "    mpg  = row[\"mpg\"]\n",
        "    disp = row[\"disp\"]\n",
        "\n",
        "    eixo_qsec.append(qsec)\n",
        "    eixo_mpg.append(mpg)\n",
        "    eixo_disp.append(disp)\n",
        "    eixo_hp.append(oraculo(qsec,mpg,disp))\n",
        "\n",
        "\n",
        "plt.scatter(x = eixo_qsec,\n",
        "             y = eixo_mpg,\n",
        "             c = eixo_hp,\n",
        "             vmin = 52, # min de hp no banco\n",
        "             vmax = 335, # max de hp no banco\n",
        "             cmap='viridis',\n",
        "             s = eixo_disp,\n",
        "             edgecolor = \"black\"\n",
        "        )\n",
        "\n"
      ]
    },
    {
      "cell_type": "markdown",
      "metadata": {
        "id": "2w0iJXR8Mnbg"
      },
      "source": [
        "Comparando com o resultado abaixo, parece que nosso oráculo não está fazendo um bom trabalho, veja novamente as cores originais."
      ]
    },
    {
      "cell_type": "code",
      "execution_count": null,
      "metadata": {
        "colab": {
          "base_uri": "https://localhost:8080/",
          "height": 471
        },
        "id": "PByTgzPeMnbh",
        "outputId": "b8fc6118-a18d-495a-8516-d9bd0a1196a7"
      },
      "outputs": [
        {
          "output_type": "execute_result",
          "data": {
            "text/plain": [
              "<Axes: xlabel='qsec', ylabel='mpg'>"
            ]
          },
          "metadata": {},
          "execution_count": 1783
        },
        {
          "output_type": "display_data",
          "data": {
            "text/plain": [
              "<Figure size 640x480 with 2 Axes>"
            ],
            "image/png": "[encoded data removed]"
          },
          "metadata": {}
        }
      ],
      "source": [
        "## Podemos ainda usar o tamanho dos pontos para\n",
        "## entender melhor os dados\n",
        "mtcars.plot.scatter(x = \"qsec\",\n",
        "                    y = \"mpg\",\n",
        "                    c = \"hp\",\n",
        "                    vmin = 52, # min de hp no banco\n",
        "                    vmax = 335, # max de hp no banco\n",
        "                    colormap='viridis',\n",
        "                    s = \"disp\",\n",
        "                    edgecolor = \"black\")"
      ]
    },
    {
      "cell_type": "markdown",
      "metadata": {
        "id": "fVgD3EkrMnbh"
      },
      "source": [
        "# Atividade\n",
        "\n",
        "A sua função agora é criar um oráculo usando regressão linear, como visto em sala de aula. A priori, assumo que você irá configurar a sua regressão para aprender os pesos $W_1$, $W_2$, W_3$ e $W_4$ da seguinte função:\n",
        "\n",
        "$$ f(x) = qsec * W_1   + mpg * W_2 + disp * W_3 + W_4 $$\n",
        "\n",
        "Entretanto, sinta-se livre para colocar qualquer função que desejar. Após treinar o oráculo, crie um gráfico contendo os pontos do banco de dados e a resposta do seu oráculo para que seja possível fazer a análise usando as cores do gráfico, semelhante ao que geramos anteriormente para o oráculo de brinquedo arbitrário que geramos.\n",
        "\n",
        "Ao final, você será avaliado pelo seguinte:\n",
        "\n",
        "1. Consegue configurar o problema do mtcars em um cenário de regressão linear.\n",
        "2. Consegue fazer com que os pesos sejam ajustados a cada iteração.\n",
        "3. Consegue fazer com que a regressão linear convirja para algum resultado interessante.\n",
        "4. Consegue fazer uma comparação usando um gráfico e suas cores.\n",
        "\n",
        "Como ponto de partida, retiraremos as variáveis que estão no pandas e converteremos para PyTorch."
      ]
    },
    {
      "cell_type": "code",
      "execution_count": null,
      "metadata": {
        "id": "tBr5HEvIMnbh"
      },
      "outputs": [],
      "source": [
        "## Utilizando os tensores do PyTorch\n",
        "\n",
        "y = torch.tensor(mtcars.hp.values, dtype = torch.float)\n",
        "x = torch.tensor(mtcars.loc[: , [\"qsec\", \"mpg\", \"disp\"]].values, dtype = torch.float)"
      ]
    },
    {
      "cell_type": "markdown",
      "metadata": {
        "id": "Bbvw7bD5Mnbh"
      },
      "source": [
        "Vamos agora olhar os valores que temos disponíveis tanto em x quanto em y."
      ]
    },
    {
      "cell_type": "code",
      "execution_count": null,
      "metadata": {
        "colab": {
          "base_uri": "https://localhost:8080/"
        },
        "id": "Zlywp7PKMnbh",
        "outputId": "b16b36f5-0fe7-4bf1-b004-641f8c482ae7"
      },
      "outputs": [
        {
          "output_type": "stream",
          "name": "stdout",
          "text": [
            "torch.Size([32, 3])\n",
            "tensor([[ 16.4600,  21.0000, 160.0000],\n",
            "        [ 17.0200,  21.0000, 160.0000],\n",
            "        [ 18.6100,  22.8000, 108.0000],\n",
            "        [ 19.4400,  21.4000, 258.0000],\n",
            "        [ 17.0200,  18.7000, 360.0000],\n",
            "        [ 20.2200,  18.1000, 225.0000],\n",
            "        [ 15.8400,  14.3000, 360.0000],\n",
            "        [ 20.0000,  24.4000, 146.7000],\n",
            "        [ 22.9000,  22.8000, 140.8000],\n",
            "        [ 18.3000,  19.2000, 167.6000],\n",
            "        [ 18.9000,  17.8000, 167.6000],\n",
            "        [ 17.4000,  16.4000, 275.8000],\n",
            "        [ 17.6000,  17.3000, 275.8000],\n",
            "        [ 18.0000,  15.2000, 275.8000],\n",
            "        [ 17.9800,  10.4000, 472.0000],\n",
            "        [ 17.8200,  10.4000, 460.0000],\n",
            "        [ 17.4200,  14.7000, 440.0000],\n",
            "        [ 19.4700,  32.4000,  78.7000],\n",
            "        [ 18.5200,  30.4000,  75.7000],\n",
            "        [ 19.9000,  33.9000,  71.1000],\n",
            "        [ 20.0100,  21.5000, 120.1000],\n",
            "        [ 16.8700,  15.5000, 318.0000],\n",
            "        [ 17.3000,  15.2000, 304.0000],\n",
            "        [ 15.4100,  13.3000, 350.0000],\n",
            "        [ 17.0500,  19.2000, 400.0000],\n",
            "        [ 18.9000,  27.3000,  79.0000],\n",
            "        [ 16.7000,  26.0000, 120.3000],\n",
            "        [ 16.9000,  30.4000,  95.1000],\n",
            "        [ 14.5000,  15.8000, 351.0000],\n",
            "        [ 15.5000,  19.7000, 145.0000],\n",
            "        [ 14.6000,  15.0000, 301.0000],\n",
            "        [ 18.6000,  21.4000, 121.0000]])\n"
          ]
        }
      ],
      "source": [
        "print(x.shape)\n",
        "print(x)"
      ]
    },
    {
      "cell_type": "code",
      "execution_count": null,
      "metadata": {
        "colab": {
          "base_uri": "https://localhost:8080/"
        },
        "id": "YACKse52Mnbh",
        "outputId": "d29e0275-f792-43d7-8d89-4e00b4822407"
      },
      "outputs": [
        {
          "output_type": "execute_result",
          "data": {
            "text/plain": [
              "tensor([110., 110.,  93., 110., 175., 105., 245.,  62.,  95., 123., 123., 180.,\n",
              "        180., 180., 205., 215., 230.,  66.,  52.,  65.,  97., 150., 150., 245.,\n",
              "        175.,  66.,  91., 113., 264., 175., 335., 109.])"
            ]
          },
          "metadata": {},
          "execution_count": 1786
        }
      ],
      "source": [
        "y"
      ]
    },
    {
      "cell_type": "code",
      "source": [
        "\n",
        "xx = x\n",
        "yy = y"
      ],
      "metadata": {
        "id": "8dQ7O-KU6Qe9"
      },
      "execution_count": null,
      "outputs": []
    },
    {
      "cell_type": "markdown",
      "metadata": {
        "id": "1GspYbXmMnbh"
      },
      "source": [
        "Agora começa a parte divertida. Os blocos a seguir podem lhe servir como guia para obter um resultado interessante. Em cada bloco, coloque os códigos apropriados, usando o que foi visto na Aula 03 como guia."
      ]
    },
    {
      "cell_type": "code",
      "execution_count": null,
      "metadata": {
        "id": "XGxUOA3BMnbi"
      },
      "outputs": [],
      "source": [
        "## Crie a variável xx normalizando os valores de x entre 0 e 1.\n",
        "\n",
        "\n",
        "\n",
        "# Normalize os valores entre 0 e 1\n",
        "min_value = xx.min().item()\n",
        "max_value = xx.max().item()\n",
        "#xx = (xx - min_value) / (max_value - min_value)\n",
        "\n",
        "\n",
        "# Normalize os valores entre 0 e 1\n",
        "min_value2 = yy.min().item()\n",
        "max_value2 = yy.max().item()\n",
        "##yy = (yy - min_value2) / (max_value2 - min_value2)\n"
      ]
    },
    {
      "cell_type": "code",
      "execution_count": null,
      "metadata": {
        "colab": {
          "base_uri": "https://localhost:8080/"
        },
        "id": "stl7oh7KmJks",
        "outputId": "1ddbbacd-bb9f-4e06-d7dd-4d5459d78698"
      },
      "outputs": [
        {
          "output_type": "execute_result",
          "data": {
            "text/plain": [
              "torch.Size([32, 3])"
            ]
          },
          "metadata": {},
          "execution_count": 1789
        }
      ],
      "source": [
        "xx.shape"
      ]
    },
    {
      "cell_type": "code",
      "execution_count": null,
      "metadata": {
        "colab": {
          "base_uri": "https://localhost:8080/"
        },
        "id": "VIE4NeT_Mnbi",
        "outputId": "ef035c87-d3b2-4be8-f66c-8acaa9c0a89f"
      },
      "outputs": [
        {
          "output_type": "execute_result",
          "data": {
            "text/plain": [
              "tensor([[  1.0000,  16.4600,  21.0000, 160.0000],\n",
              "        [  1.0000,  17.0200,  21.0000, 160.0000],\n",
              "        [  1.0000,  18.6100,  22.8000, 108.0000],\n",
              "        [  1.0000,  19.4400,  21.4000, 258.0000],\n",
              "        [  1.0000,  17.0200,  18.7000, 360.0000],\n",
              "        [  1.0000,  20.2200,  18.1000, 225.0000],\n",
              "        [  1.0000,  15.8400,  14.3000, 360.0000],\n",
              "        [  1.0000,  20.0000,  24.4000, 146.7000],\n",
              "        [  1.0000,  22.9000,  22.8000, 140.8000],\n",
              "        [  1.0000,  18.3000,  19.2000, 167.6000],\n",
              "        [  1.0000,  18.9000,  17.8000, 167.6000],\n",
              "        [  1.0000,  17.4000,  16.4000, 275.8000],\n",
              "        [  1.0000,  17.6000,  17.3000, 275.8000],\n",
              "        [  1.0000,  18.0000,  15.2000, 275.8000],\n",
              "        [  1.0000,  17.9800,  10.4000, 472.0000],\n",
              "        [  1.0000,  17.8200,  10.4000, 460.0000],\n",
              "        [  1.0000,  17.4200,  14.7000, 440.0000],\n",
              "        [  1.0000,  19.4700,  32.4000,  78.7000],\n",
              "        [  1.0000,  18.5200,  30.4000,  75.7000],\n",
              "        [  1.0000,  19.9000,  33.9000,  71.1000],\n",
              "        [  1.0000,  20.0100,  21.5000, 120.1000],\n",
              "        [  1.0000,  16.8700,  15.5000, 318.0000],\n",
              "        [  1.0000,  17.3000,  15.2000, 304.0000],\n",
              "        [  1.0000,  15.4100,  13.3000, 350.0000],\n",
              "        [  1.0000,  17.0500,  19.2000, 400.0000],\n",
              "        [  1.0000,  18.9000,  27.3000,  79.0000],\n",
              "        [  1.0000,  16.7000,  26.0000, 120.3000],\n",
              "        [  1.0000,  16.9000,  30.4000,  95.1000],\n",
              "        [  1.0000,  14.5000,  15.8000, 351.0000],\n",
              "        [  1.0000,  15.5000,  19.7000, 145.0000],\n",
              "        [  1.0000,  14.6000,  15.0000, 301.0000],\n",
              "        [  1.0000,  18.6000,  21.4000, 121.0000]])"
            ]
          },
          "metadata": {},
          "execution_count": 1790
        }
      ],
      "source": [
        "## Adicione em xx uma nova coluna com valores iguais 1.\n",
        "## Isso fará com que cada linha da matriz possua quatro\n",
        "## valores: 1, qsec, mpg, disp.\n",
        "\n",
        "## Você pode executar esse passo facilmente usando o\n",
        "## comando torch.cat visto em sala de aula.\n",
        "\n",
        "xx = torch.cat([torch.ones(xx.shape[0],1), xx], dim=-1)\n",
        "p = torch.tensor([0,1, 1, 1])\n",
        "xx = xx.pow(p)\n",
        "xx"
      ]
    },
    {
      "cell_type": "code",
      "execution_count": null,
      "metadata": {
        "colab": {
          "base_uri": "https://localhost:8080/"
        },
        "id": "hHJMPAwZMnbi",
        "outputId": "f70bff15-8316-4f32-d76d-110b78200051"
      },
      "outputs": [
        {
          "output_type": "execute_result",
          "data": {
            "text/plain": [
              "tensor([0.5628, 0.1033, 0.0553, 0.4873], requires_grad=True)"
            ]
          },
          "metadata": {},
          "execution_count": 1791
        }
      ],
      "source": [
        "## Crie um vetor de coeficientes para multiplicar pela variável xx.\n",
        "## O seu vetor de coeficientes deve ter tamanho 4 e deverá configurar\n",
        "## requires_grad como True.\n",
        "\n",
        "coef = torch.rand(xx.shape[1], requires_grad=True)\n",
        "coef\n"
      ]
    },
    {
      "cell_type": "code",
      "execution_count": null,
      "metadata": {
        "id": "4GvVRq7jMnbi"
      },
      "outputs": [],
      "source": [
        "## Inicialize a função de erro MSELoss\n",
        "loss_fn = torch.nn.MSELoss()"
      ]
    },
    {
      "cell_type": "code",
      "execution_count": null,
      "metadata": {
        "colab": {
          "base_uri": "https://localhost:8080/"
        },
        "id": "2mPuRIwFMnbi",
        "outputId": "92bf09ca-47a0-447d-84a2-5a514a9176a7"
      },
      "outputs": [
        {
          "output_type": "stream",
          "name": "stdout",
          "text": [
            "0 2695.902587890625\n",
            "100 nan\n",
            "200 nan\n",
            "300 nan\n",
            "400 nan\n",
            "500 nan\n",
            "600 nan\n",
            "700 nan\n",
            "800 nan\n",
            "900 nan\n"
          ]
        }
      ],
      "source": [
        "## Execute o Treinamento\n",
        "\n",
        "## ToDo: Configure as linhas abaixo como achar apropriado\n",
        "max_learning_rate = 0.14\n",
        "epochs = 1000\n",
        "\n",
        "for t in range(epochs):\n",
        "    learning_rate = max_learning_rate * (1 - t/epochs)\n",
        "\n",
        "    # ToDo Forward pass: Use o produto interno entre xx e\n",
        "    # coef para gerar uma predição..\n",
        "    y_pred = torch.inner(xx,coef)\n",
        "\n",
        "\n",
        "    ## Computando o erro com a função de custo\n",
        "    ## imprimindo o resultado algumas vezes na tela\n",
        "    ## para ver se está funcionando.\n",
        "    loss = loss_fn(y_pred, yy)\n",
        "\n",
        "    ## Imprimindo dez vezes o resultado do erro\n",
        "    if t % (epochs / 10) == 0 :\n",
        "        print(t, loss.item())\n",
        "\n",
        "    ## Computando os gradientes\n",
        "    loss.backward()\n",
        "\n",
        "    # Atualizando os pesos usando a descida por gradiente.\n",
        "    coef.data -= learning_rate * coef.grad.data\n",
        "\n",
        "    # Limpando os gradientes antes da próxima iteração\n",
        "    coef.grad.data.zero_()"
      ]
    },
    {
      "cell_type": "code",
      "execution_count": null,
      "metadata": {
        "colab": {
          "base_uri": "https://localhost:8080/"
        },
        "id": "BW5a2tsdrb__",
        "outputId": "2039d867-b7aa-4942-c4ae-ad029819d991"
      },
      "outputs": [
        {
          "output_type": "execute_result",
          "data": {
            "text/plain": [
              "[nan, nan, nan, nan]"
            ]
          },
          "metadata": {},
          "execution_count": 1794
        }
      ],
      "source": [
        "values = coef.tolist()\n",
        "values\n"
      ]
    },
    {
      "cell_type": "code",
      "execution_count": null,
      "metadata": {
        "id": "SCE5tebOqgWQ"
      },
      "outputs": [],
      "source": [
        "# f(x)=qsec∗W1+mpg∗W2+disp∗W3+W4\n",
        "def oraculo2(qsec, mpg, disp):\n",
        "\n",
        "  return qsec*values[0]+mpg*values[1]+disp*values[2]+values[3]\n",
        "\n"
      ]
    },
    {
      "cell_type": "code",
      "execution_count": null,
      "metadata": {
        "colab": {
          "base_uri": "https://localhost:8080/",
          "height": 878
        },
        "id": "SPkAnz-Tqjbu",
        "outputId": "1b11ead9-11e0-487c-f120-c4ecf9528c36"
      },
      "outputs": [
        {
          "output_type": "stream",
          "name": "stdout",
          "text": [
            "[110 110  93 110 175 105 245  62  95 123 123 180 180 180 205 215 230  66\n",
            "  52  65  97 150 150 245 175  66  91 113 264 175 335 109]\n",
            "[nan nan nan nan nan nan nan nan nan nan nan nan nan nan nan nan nan nan\n",
            " nan nan nan nan nan nan nan nan nan nan nan nan nan nan]\n"
          ]
        },
        {
          "output_type": "error",
          "ename": "StopIteration",
          "evalue": "ignored",
          "traceback": [
            "\u001b[0;31m---------------------------------------------------------------------------\u001b[0m",
            "\u001b[0;31mStopIteration\u001b[0m                             Traceback (most recent call last)",
            "\u001b[0;32m<ipython-input-1796-04016cd4584d>\u001b[0m in \u001b[0;36m<cell line: 19>\u001b[0;34m()\u001b[0m\n\u001b[1;32m     17\u001b[0m \u001b[0;34m\u001b[0m\u001b[0m\n\u001b[1;32m     18\u001b[0m \u001b[0;34m\u001b[0m\u001b[0m\n\u001b[0;32m---> 19\u001b[0;31m plt.scatter(x = eixo_qsec,\n\u001b[0m\u001b[1;32m     20\u001b[0m              \u001b[0my\u001b[0m \u001b[0;34m=\u001b[0m \u001b[0meixo_mpg\u001b[0m\u001b[0;34m,\u001b[0m\u001b[0;34m\u001b[0m\u001b[0;34m\u001b[0m\u001b[0m\n\u001b[1;32m     21\u001b[0m              \u001b[0mc\u001b[0m \u001b[0;34m=\u001b[0m \u001b[0meixo_hp\u001b[0m\u001b[0;34m,\u001b[0m\u001b[0;34m\u001b[0m\u001b[0;34m\u001b[0m\u001b[0m\n",
            "\u001b[0;32m/usr/local/lib/python3.10/dist-packages/matplotlib/pyplot.py\u001b[0m in \u001b[0;36mscatter\u001b[0;34m(x, y, s, c, marker, cmap, norm, vmin, vmax, alpha, linewidths, edgecolors, plotnonfinite, data, **kwargs)\u001b[0m\n\u001b[1;32m   2860\u001b[0m         \u001b[0mvmin\u001b[0m\u001b[0;34m=\u001b[0m\u001b[0;32mNone\u001b[0m\u001b[0;34m,\u001b[0m \u001b[0mvmax\u001b[0m\u001b[0;34m=\u001b[0m\u001b[0;32mNone\u001b[0m\u001b[0;34m,\u001b[0m \u001b[0malpha\u001b[0m\u001b[0;34m=\u001b[0m\u001b[0;32mNone\u001b[0m\u001b[0;34m,\u001b[0m \u001b[0mlinewidths\u001b[0m\u001b[0;34m=\u001b[0m\u001b[0;32mNone\u001b[0m\u001b[0;34m,\u001b[0m \u001b[0;34m*\u001b[0m\u001b[0;34m,\u001b[0m\u001b[0;34m\u001b[0m\u001b[0;34m\u001b[0m\u001b[0m\n\u001b[1;32m   2861\u001b[0m         edgecolors=None, plotnonfinite=False, data=None, **kwargs):\n\u001b[0;32m-> 2862\u001b[0;31m     __ret = gca().scatter(\n\u001b[0m\u001b[1;32m   2863\u001b[0m         \u001b[0mx\u001b[0m\u001b[0;34m,\u001b[0m \u001b[0my\u001b[0m\u001b[0;34m,\u001b[0m \u001b[0ms\u001b[0m\u001b[0;34m=\u001b[0m\u001b[0ms\u001b[0m\u001b[0;34m,\u001b[0m \u001b[0mc\u001b[0m\u001b[0;34m=\u001b[0m\u001b[0mc\u001b[0m\u001b[0;34m,\u001b[0m \u001b[0mmarker\u001b[0m\u001b[0;34m=\u001b[0m\u001b[0mmarker\u001b[0m\u001b[0;34m,\u001b[0m \u001b[0mcmap\u001b[0m\u001b[0;34m=\u001b[0m\u001b[0mcmap\u001b[0m\u001b[0;34m,\u001b[0m \u001b[0mnorm\u001b[0m\u001b[0;34m=\u001b[0m\u001b[0mnorm\u001b[0m\u001b[0;34m,\u001b[0m\u001b[0;34m\u001b[0m\u001b[0;34m\u001b[0m\u001b[0m\n\u001b[1;32m   2864\u001b[0m         \u001b[0mvmin\u001b[0m\u001b[0;34m=\u001b[0m\u001b[0mvmin\u001b[0m\u001b[0;34m,\u001b[0m \u001b[0mvmax\u001b[0m\u001b[0;34m=\u001b[0m\u001b[0mvmax\u001b[0m\u001b[0;34m,\u001b[0m \u001b[0malpha\u001b[0m\u001b[0;34m=\u001b[0m\u001b[0malpha\u001b[0m\u001b[0;34m,\u001b[0m \u001b[0mlinewidths\u001b[0m\u001b[0;34m=\u001b[0m\u001b[0mlinewidths\u001b[0m\u001b[0;34m,\u001b[0m\u001b[0;34m\u001b[0m\u001b[0;34m\u001b[0m\u001b[0m\n",
            "\u001b[0;32m/usr/local/lib/python3.10/dist-packages/matplotlib/__init__.py\u001b[0m in \u001b[0;36minner\u001b[0;34m(ax, data, *args, **kwargs)\u001b[0m\n\u001b[1;32m   1440\u001b[0m     \u001b[0;32mdef\u001b[0m \u001b[0minner\u001b[0m\u001b[0;34m(\u001b[0m\u001b[0max\u001b[0m\u001b[0;34m,\u001b[0m \u001b[0;34m*\u001b[0m\u001b[0margs\u001b[0m\u001b[0;34m,\u001b[0m \u001b[0mdata\u001b[0m\u001b[0;34m=\u001b[0m\u001b[0;32mNone\u001b[0m\u001b[0;34m,\u001b[0m \u001b[0;34m**\u001b[0m\u001b[0mkwargs\u001b[0m\u001b[0;34m)\u001b[0m\u001b[0;34m:\u001b[0m\u001b[0;34m\u001b[0m\u001b[0;34m\u001b[0m\u001b[0m\n\u001b[1;32m   1441\u001b[0m         \u001b[0;32mif\u001b[0m \u001b[0mdata\u001b[0m \u001b[0;32mis\u001b[0m \u001b[0;32mNone\u001b[0m\u001b[0;34m:\u001b[0m\u001b[0;34m\u001b[0m\u001b[0;34m\u001b[0m\u001b[0m\n\u001b[0;32m-> 1442\u001b[0;31m             \u001b[0;32mreturn\u001b[0m \u001b[0mfunc\u001b[0m\u001b[0;34m(\u001b[0m\u001b[0max\u001b[0m\u001b[0;34m,\u001b[0m \u001b[0;34m*\u001b[0m\u001b[0mmap\u001b[0m\u001b[0;34m(\u001b[0m\u001b[0msanitize_sequence\u001b[0m\u001b[0;34m,\u001b[0m \u001b[0margs\u001b[0m\u001b[0;34m)\u001b[0m\u001b[0;34m,\u001b[0m \u001b[0;34m**\u001b[0m\u001b[0mkwargs\u001b[0m\u001b[0;34m)\u001b[0m\u001b[0;34m\u001b[0m\u001b[0;34m\u001b[0m\u001b[0m\n\u001b[0m\u001b[1;32m   1443\u001b[0m \u001b[0;34m\u001b[0m\u001b[0m\n\u001b[1;32m   1444\u001b[0m         \u001b[0mbound\u001b[0m \u001b[0;34m=\u001b[0m \u001b[0mnew_sig\u001b[0m\u001b[0;34m.\u001b[0m\u001b[0mbind\u001b[0m\u001b[0;34m(\u001b[0m\u001b[0max\u001b[0m\u001b[0;34m,\u001b[0m \u001b[0;34m*\u001b[0m\u001b[0margs\u001b[0m\u001b[0;34m,\u001b[0m \u001b[0;34m**\u001b[0m\u001b[0mkwargs\u001b[0m\u001b[0;34m)\u001b[0m\u001b[0;34m\u001b[0m\u001b[0;34m\u001b[0m\u001b[0m\n",
            "\u001b[0;32m/usr/local/lib/python3.10/dist-packages/matplotlib/axes/_axes.py\u001b[0m in \u001b[0;36mscatter\u001b[0;34m(self, x, y, s, c, marker, cmap, norm, vmin, vmax, alpha, linewidths, edgecolors, plotnonfinite, **kwargs)\u001b[0m\n\u001b[1;32m   4600\u001b[0m             \u001b[0morig_edgecolor\u001b[0m \u001b[0;34m=\u001b[0m \u001b[0mkwargs\u001b[0m\u001b[0;34m.\u001b[0m\u001b[0mget\u001b[0m\u001b[0;34m(\u001b[0m\u001b[0;34m'edgecolor'\u001b[0m\u001b[0;34m,\u001b[0m \u001b[0;32mNone\u001b[0m\u001b[0;34m)\u001b[0m\u001b[0;34m\u001b[0m\u001b[0;34m\u001b[0m\u001b[0m\n\u001b[1;32m   4601\u001b[0m         \u001b[0mc\u001b[0m\u001b[0;34m,\u001b[0m \u001b[0mcolors\u001b[0m\u001b[0;34m,\u001b[0m \u001b[0medgecolors\u001b[0m \u001b[0;34m=\u001b[0m\u001b[0;31m \u001b[0m\u001b[0;31m\\\u001b[0m\u001b[0;34m\u001b[0m\u001b[0;34m\u001b[0m\u001b[0m\n\u001b[0;32m-> 4602\u001b[0;31m             self._parse_scatter_color_args(\n\u001b[0m\u001b[1;32m   4603\u001b[0m                 \u001b[0mc\u001b[0m\u001b[0;34m,\u001b[0m \u001b[0medgecolors\u001b[0m\u001b[0;34m,\u001b[0m \u001b[0mkwargs\u001b[0m\u001b[0;34m,\u001b[0m \u001b[0mx\u001b[0m\u001b[0;34m.\u001b[0m\u001b[0msize\u001b[0m\u001b[0;34m,\u001b[0m\u001b[0;34m\u001b[0m\u001b[0;34m\u001b[0m\u001b[0m\n\u001b[1;32m   4604\u001b[0m                 get_next_color_func=self._get_patches_for_fill.get_next_color)\n",
            "\u001b[0;32m/usr/local/lib/python3.10/dist-packages/matplotlib/axes/_axes.py\u001b[0m in \u001b[0;36m_parse_scatter_color_args\u001b[0;34m(c, edgecolors, kwargs, xsize, get_next_color_func)\u001b[0m\n\u001b[1;32m   4398\u001b[0m             \u001b[0misinstance\u001b[0m\u001b[0;34m(\u001b[0m\u001b[0mc\u001b[0m\u001b[0;34m,\u001b[0m \u001b[0mstr\u001b[0m\u001b[0;34m)\u001b[0m\u001b[0;34m\u001b[0m\u001b[0;34m\u001b[0m\u001b[0m\n\u001b[1;32m   4399\u001b[0m             or (np.iterable(c) and len(c) > 0\n\u001b[0;32m-> 4400\u001b[0;31m                 and isinstance(cbook._safe_first_finite(c), str)))\n\u001b[0m\u001b[1;32m   4401\u001b[0m \u001b[0;34m\u001b[0m\u001b[0m\n\u001b[1;32m   4402\u001b[0m         \u001b[0;32mdef\u001b[0m \u001b[0minvalid_shape_exception\u001b[0m\u001b[0;34m(\u001b[0m\u001b[0mcsize\u001b[0m\u001b[0;34m,\u001b[0m \u001b[0mxsize\u001b[0m\u001b[0;34m)\u001b[0m\u001b[0;34m:\u001b[0m\u001b[0;34m\u001b[0m\u001b[0;34m\u001b[0m\u001b[0m\n",
            "\u001b[0;32m/usr/local/lib/python3.10/dist-packages/matplotlib/cbook/__init__.py\u001b[0m in \u001b[0;36m_safe_first_finite\u001b[0;34m(obj, skip_nonfinite)\u001b[0m\n\u001b[1;32m   1713\u001b[0m                            \"support generators as input\")\n\u001b[1;32m   1714\u001b[0m     \u001b[0;32melse\u001b[0m\u001b[0;34m:\u001b[0m\u001b[0;34m\u001b[0m\u001b[0;34m\u001b[0m\u001b[0m\n\u001b[0;32m-> 1715\u001b[0;31m         \u001b[0;32mreturn\u001b[0m \u001b[0mnext\u001b[0m\u001b[0;34m(\u001b[0m\u001b[0mval\u001b[0m \u001b[0;32mfor\u001b[0m \u001b[0mval\u001b[0m \u001b[0;32min\u001b[0m \u001b[0mobj\u001b[0m \u001b[0;32mif\u001b[0m \u001b[0msafe_isfinite\u001b[0m\u001b[0;34m(\u001b[0m\u001b[0mval\u001b[0m\u001b[0;34m)\u001b[0m\u001b[0;34m)\u001b[0m\u001b[0;34m\u001b[0m\u001b[0;34m\u001b[0m\u001b[0m\n\u001b[0m\u001b[1;32m   1716\u001b[0m \u001b[0;34m\u001b[0m\u001b[0m\n\u001b[1;32m   1717\u001b[0m \u001b[0;34m\u001b[0m\u001b[0m\n",
            "\u001b[0;31mStopIteration\u001b[0m: "
          ]
        },
        {
          "output_type": "display_data",
          "data": {
            "text/plain": [
              "<Figure size 640x480 with 1 Axes>"
            ],
            "image/png": "[encoded data removed]"
          },
          "metadata": {}
        }
      ],
      "source": [
        "## Plotando o oráculo\n",
        "eixo_qsec = []\n",
        "eixo_mpg  = []\n",
        "eixo_disp = []\n",
        "eixo_hp   = []\n",
        "\n",
        "import numpy as np\n",
        "eixo_qsec = np.array(mtcars[\"qsec\"])\n",
        "eixo_mpg  = np.array(mtcars[\"mpg\"])\n",
        "eixo_disp = np.array(mtcars[\"disp\"])\n",
        "\n",
        "eixo_hp = oraculo2(eixo_qsec,eixo_mpg,eixo_disp)\n",
        "\n",
        "\n",
        "print(np.array(mtcars[\"hp\"]))\n",
        "print(eixo_hp)\n",
        "\n",
        "\n",
        "plt.scatter(x = eixo_qsec,\n",
        "             y = eixo_mpg,\n",
        "             c = eixo_hp,\n",
        "             vmin = np.min(eixo_hp), # min de hp no banco\n",
        "             vmax = np.max(eixo_hp), # max de hp no banco\n",
        "             cmap='viridis',\n",
        "             s = eixo_disp,\n",
        "             edgecolor = \"black\"\n",
        "        )\n",
        "\n"
      ]
    },
    {
      "cell_type": "code",
      "execution_count": null,
      "metadata": {
        "id": "kXIN2rrOs215"
      },
      "outputs": [],
      "source": [
        "mtcars.plot.scatter(x = \"qsec\",\n",
        "                    y = \"mpg\",\n",
        "                    c = \"hp\",\n",
        "                    vmin = 52, # min de hp no banco\n",
        "                    vmax = 335, # max de hp no banco\n",
        "                    colormap='viridis',\n",
        "                    s = \"disp\",\n",
        "                    edgecolor = \"black\")"
      ]
    },
    {
      "cell_type": "markdown",
      "metadata": {
        "id": "eWxb_qtcMnbi"
      },
      "source": [
        "Se tudo tiver dado certo nos passos acima, você deverá finalizar plotando um gráfico de pontos colorindo as bolinhas que representam os carros. Neste mesmo notebook tem um código que pode ser copiado e colado no bloco a seguir e alterado para corresponder ao seu oráculo.\n",
        "\n",
        "Não esqueça que, se no seu oráculo você usou uma normalização por máximo e mínimo, a mesma operação deve ser usada no bloco a seguir.\n",
        "\n",
        "Ao final de tudo, não esqueça de dar uma opinião pessoal sobre o desempenho do seu modelo."
      ]
    }
  ],
  "metadata": {
    "colab": {
      "provenance": []
    },
    "kernelspec": {
      "display_name": "Python 3",
      "name": "python3"
    },
    "language_info": {
      "codemirror_mode": {
        "name": "ipython",
        "version": 3
      },
      "file_extension": ".py",
      "mimetype": "text/x-python",
      "name": "python",
      "nbconvert_exporter": "python",
      "pygments_lexer": "ipython3",
      "version": "3.9.16"
    }
  },
  "nbformat": 4,
  "nbformat_minor": 0
}