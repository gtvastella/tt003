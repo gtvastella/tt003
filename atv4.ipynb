{
  "cells": [
    {
      "cell_type": "markdown",
      "id": "e1d38d39",
      "metadata": {
        "id": "e1d38d39"
      },
      "source": [
        "**Universidade Estadual de Campinas - Unicamp**\n",
        "\n",
        "**Faculdade de Tecnologia - FT**\n",
        "\n",
        "**Autor:** Ulisses Martins Dias\n",
        "\n",
        "**Disciplina:** TT003 - Tópicos em Computação e Informática III\n",
        "\n",
        "**Atividade 04:** Rede Neural\n",
        "\n",
        "[![Open In Colab](https://colab.research.google.com/assets/colab-badge.svg)](https://colab.research.google.com/github/ulissesdias/tt003/blob/main/atividades/atividade04.ipynb)\n",
        "\n",
        "## Operadores Binários\n",
        "\n",
        "Vamos agora realizar um experimento similar a um dos exemplos em sala de aula, fazer uma rede neural básica aprender a função ((A and B) or (C and D)) que aprendemos logo no início dos nossos cursos de computação. Entretanto, esta função que iremos aprender contém 4 entradas. Nesse caso, temos $2^4 = 16$ possibilidades na tabela verdade.\n",
        "\n",
        "\n",
        "**Input 1** | **Input 2** | **Input 3** | **Input 4** | **Target**\n",
        "------------|-------------|-------------|-------------|-------\n",
        "0 | 0 | 0 | 0 | 0\n",
        "0 | 0 | 0 | 1 | 0\n",
        "0 | 0 | 1 | 0 | 0\n",
        "0 | 0 | 1 | 1 | 1\n",
        "0 | 1 | 0 | 0 | 0\n",
        "0 | 1 | 0 | 1 | 0\n",
        "0 | 1 | 1 | 0 | 0\n",
        "0 | 1 | 1 | 1 | 1\n",
        "1 | 0 | 0 | 0 | 0\n",
        "1 | 0 | 0 | 1 | 0\n",
        "1 | 0 | 1 | 0 | 0\n",
        "1 | 0 | 1 | 1 | 1\n",
        "1 | 1 | 0 | 0 | 1\n",
        "1 | 1 | 0 | 1 | 1\n",
        "1 | 1 | 1 | 0 | 1\n",
        "1 | 1 | 1 | 1 | 1\n",
        "\n",
        "\n",
        "A dificuldade agora é que você terá muito menos suporte do que nas aulas anteriores deste notebook, dado que é necessário que você tenha mais autonomia para prosseguir na disciplina. Por exemplo, não serão fornecidas a você as entradas e as saídas, é esperado que você consiga criar manualmente usando *torch.tensor*. Apenas para lhe ajudar com um $\\epsilon$, abaixo eu lhe mostro como eu começaria em Python convencional. Talvez seja mais interessante criar os vetores em Python convencional e depois gerar os tensores."
      ]
    },
    {
      "cell_type": "code",
      "execution_count": null,
      "id": "0bd694e6",
      "metadata": {
        "id": "0bd694e6"
      },
      "outputs": [],
      "source": [
        "import numpy as np\n",
        "def logical_operator(a,b,c,d) :\n",
        "    result = np.logical_or(np.logical_and(a, b), np.logical_and(c, d))\n",
        "    return result.astype(int)\n"
      ]
    },
    {
      "cell_type": "code",
      "execution_count": null,
      "id": "cc36eec1",
      "metadata": {
        "id": "cc36eec1",
        "outputId": "a010b47c-27db-4ab7-85b3-e25abd5998b6",
        "colab": {
          "base_uri": "https://localhost:8080/"
        }
      },
      "outputs": [
        {
          "output_type": "stream",
          "name": "stdout",
          "text": [
            "[[0, 0, 0, 1, 0, 0, 0, 1, 0, 0, 0, 1, 1, 1, 1, 1]]\n"
          ]
        }
      ],
      "source": [
        "\n",
        "import torch\n",
        "\n",
        "\n",
        "x = [[0, 0, 0, 0, 0, 0, 0, 0, 1, 1, 1, 1, 1, 1, 1, 1],\n",
        "      [0, 0, 0, 0, 1, 1, 1, 1, 0, 0, 0, 0, 1, 1, 1, 1],\n",
        "      [0, 0, 1, 1, 0, 0, 1, 1, 0, 0, 1, 1, 0, 0, 1, 1],\n",
        "      [0, 1, 0, 1, 0, 1, 0, 1, 0, 1, 0, 1, 0, 1, 0, 1]]\n",
        "\n",
        "\n",
        "y = [logical_operator(x[0], x[1],x[2],x[3]).tolist()]\n",
        "\n",
        "print(y)\n",
        "\n",
        "\n",
        "x = torch.tensor(x).T.to(torch.float)\n",
        "y = torch.tensor(y).T.to(torch.float)\n",
        "\n",
        "xx = x\n",
        "yy = y\n",
        "\n",
        "\n"
      ]
    },
    {
      "cell_type": "code",
      "source": [
        "import matplotlib.pyplot as plt\n",
        "\n",
        "plt.plot(torch.arange(16), y)"
      ],
      "metadata": {
        "colab": {
          "base_uri": "https://localhost:8080/",
          "height": 448
        },
        "id": "isIwBmQd3CJ7",
        "outputId": "0948eabc-39bf-487d-a246-783061b72f8d"
      },
      "id": "isIwBmQd3CJ7",
      "execution_count": null,
      "outputs": [
        {
          "output_type": "execute_result",
          "data": {
            "text/plain": [
              "[<matplotlib.lines.Line2D at 0x7eab17ecb1f0>]"
            ]
          },
          "metadata": {},
          "execution_count": 49
        },
        {
          "output_type": "display_data",
          "data": {
            "text/plain": [
              "<Figure size 640x480 with 1 Axes>"
            ],
            "image/png": "[encoded data removed]"
          },
          "metadata": {}
        }
      ]
    },
    {
      "cell_type": "code",
      "source": [
        "import torch.nn as nn\n",
        "import torch.optim as optim\n",
        "model = nn.Sequential(\n",
        "    nn.Linear(4, 3),\n",
        "    nn.Sigmoid(),\n",
        "    nn.Linear(3, 2),\n",
        "    nn.Sigmoid(),\n",
        "    nn.Linear(2, 1),\n",
        "    nn.Sigmoid()\n",
        ")\n"
      ],
      "metadata": {
        "id": "OT4izPWE4l-q"
      },
      "id": "OT4izPWE4l-q",
      "execution_count": null,
      "outputs": []
    },
    {
      "cell_type": "code",
      "source": [
        "loss_fn = torch.nn.BCELoss()\n",
        "learning_rate = 0.01\n",
        "optimizer = optim.Adam(model.parameters(), lr=learning_rate)"
      ],
      "metadata": {
        "id": "or6BG-ZR6N8U"
      },
      "id": "or6BG-ZR6N8U",
      "execution_count": null,
      "outputs": []
    },
    {
      "cell_type": "code",
      "source": [
        "num_epochs = 1000\n"
      ],
      "metadata": {
        "id": "ZzkongJyRySs"
      },
      "id": "ZzkongJyRySs",
      "execution_count": null,
      "outputs": []
    },
    {
      "cell_type": "code",
      "source": [
        "for t in range(num_epochs):\n",
        "    y_pred = model(xx)\n",
        "\n",
        "    loss = loss_fn(y_pred, yy)\n",
        "\n",
        "    if t % 1000 == 0 :\n",
        "        print(t, loss.item())\n",
        "\n",
        "    optimizer.zero_grad()\n",
        "    loss.backward()\n",
        "    optimizer.step()\n",
        "    # Atualizar os pesos usando a descida por gradiente, como fizemos anteriormente.\n",
        "    # Cada parâmetro é um Tensor,então podemos acessar seus gradientes como\n",
        "    # fizemos antes.\n",
        "    with torch.no_grad():\n",
        "        for param in model.parameters():\n",
        "            param -= learning_rate * param.grad\n",
        "\n",
        "    # Limpamos os gradientes antes de executar o backward pass.\n",
        "    model.zero_grad()"
      ],
      "metadata": {
        "colab": {
          "base_uri": "https://localhost:8080/"
        },
        "id": "ygWuzU326QFa",
        "outputId": "ec92b02d-3443-403f-aa25-2b23a7ad9118"
      },
      "id": "ygWuzU326QFa",
      "execution_count": null,
      "outputs": [
        {
          "output_type": "stream",
          "name": "stdout",
          "text": [
            "0 0.7229908108711243\n"
          ]
        }
      ]
    },
    {
      "cell_type": "code",
      "source": [],
      "metadata": {
        "colab": {
          "base_uri": "https://localhost:8080/"
        },
        "id": "NbtfHccj6h7J",
        "outputId": "59b799ca-bad0-479a-df37-aef9c5db1d00"
      },
      "id": "NbtfHccj6h7J",
      "execution_count": null,
      "outputs": [
        {
          "output_type": "execute_result",
          "data": {
            "text/plain": [
              "tensor([[0.0024],\n",
              "        [0.0030],\n",
              "        [0.0034],\n",
              "        [0.9832],\n",
              "        [0.0027],\n",
              "        [0.0120],\n",
              "        [0.0118],\n",
              "        [0.9880],\n",
              "        [0.0043],\n",
              "        [0.0050],\n",
              "        [0.0041],\n",
              "        [0.9867],\n",
              "        [0.9855],\n",
              "        [0.9842],\n",
              "        [0.9847],\n",
              "        [0.9884]], grad_fn=<SigmoidBackward0>)"
            ]
          },
          "metadata": {},
          "execution_count": 54
        }
      ]
    },
    {
      "cell_type": "code",
      "source": [
        "import matplotlib.pyplot as plt\n",
        "\n",
        "print(\"ORIGINAL\")\n",
        "print(y)\n",
        "plt.plot(torch.arange(16), y)\n"
      ],
      "metadata": {
        "colab": {
          "base_uri": "https://localhost:8080/",
          "height": 762
        },
        "id": "xcA3HKQJ650E",
        "outputId": "4f6676f9-47f4-4746-b192-876b0c5958c6"
      },
      "id": "xcA3HKQJ650E",
      "execution_count": null,
      "outputs": [
        {
          "output_type": "stream",
          "name": "stdout",
          "text": [
            "ORIGINAL\n",
            "tensor([[0.],\n",
            "        [0.],\n",
            "        [0.],\n",
            "        [1.],\n",
            "        [0.],\n",
            "        [0.],\n",
            "        [0.],\n",
            "        [1.],\n",
            "        [0.],\n",
            "        [0.],\n",
            "        [0.],\n",
            "        [1.],\n",
            "        [1.],\n",
            "        [1.],\n",
            "        [1.],\n",
            "        [1.]])\n"
          ]
        },
        {
          "output_type": "execute_result",
          "data": {
            "text/plain": [
              "[<matplotlib.lines.Line2D at 0x7eab17d701c0>]"
            ]
          },
          "metadata": {},
          "execution_count": 55
        },
        {
          "output_type": "display_data",
          "data": {
            "text/plain": [
              "<Figure size 640x480 with 1 Axes>"
            ],
            "image/png": "[encoded data removed]"
          },
          "metadata": {}
        }
      ]
    },
    {
      "cell_type": "code",
      "source": [
        "print(\"PREDITO\")\n",
        "torch.set_printoptions(sci_mode=False)\n",
        "print(torch.tensor(model(xx).tolist()))\n",
        "plt.plot(torch.arange(16), model(xx).tolist())"
      ],
      "metadata": {
        "colab": {
          "base_uri": "https://localhost:8080/",
          "height": 762
        },
        "id": "Vkinc6iy_MkG",
        "outputId": "584d1d3c-8652-4d14-8b6a-c2c1ed33bcb1"
      },
      "id": "Vkinc6iy_MkG",
      "execution_count": null,
      "outputs": [
        {
          "output_type": "stream",
          "name": "stdout",
          "text": [
            "PREDITO\n",
            "tensor([[0.0024],\n",
            "        [0.0030],\n",
            "        [0.0034],\n",
            "        [0.9832],\n",
            "        [0.0027],\n",
            "        [0.0120],\n",
            "        [0.0118],\n",
            "        [0.9880],\n",
            "        [0.0043],\n",
            "        [0.0050],\n",
            "        [0.0041],\n",
            "        [0.9867],\n",
            "        [0.9855],\n",
            "        [0.9842],\n",
            "        [0.9847],\n",
            "        [0.9884]])\n"
          ]
        },
        {
          "output_type": "execute_result",
          "data": {
            "text/plain": [
              "[<matplotlib.lines.Line2D at 0x7eab17de89d0>]"
            ]
          },
          "metadata": {},
          "execution_count": 56
        },
        {
          "output_type": "display_data",
          "data": {
            "text/plain": [
              "<Figure size 640x480 with 1 Axes>"
            ],
            "image/png": "[encoded data removed]"
          },
          "metadata": {}
        }
      ]
    },
    {
      "cell_type": "code",
      "source": [],
      "metadata": {
        "id": "4S-2bnn3-Opl"
      },
      "id": "4S-2bnn3-Opl",
      "execution_count": null,
      "outputs": []
    },
    {
      "cell_type": "markdown",
      "id": "1f0328b2",
      "metadata": {
        "id": "1f0328b2"
      },
      "source": [
        "Nesta atividade, você será avaliado por cumprir os seguintes itens.\n",
        "\n",
        "1. Consegue gerar a entrada: as *features* em uma variável $x$ e o *target* em uma variável $y$.\n",
        "2. Consegue criar uma rede usando o *Sequential*.\n",
        "3. Consegue usar camadas *Linear* e *Sigmoid* com as funções do Pytorch.\n",
        "4. Consegue usar uma função de custo. Escolha entre MSELoss ou BCELoss e explique no vídeo o motivo da escolha (na dúvida, teste as duas e explique a que se saiu melhor, ou se as duas foram igualmente bem).\n",
        "5. Consegue executar um treinamento e convergir para uma loss baixa.\n",
        "\n",
        "A sua resposta será, como sempre, um vídeo mostrando as suas análises.\n"
      ]
    }
  ],
  "metadata": {
    "kernelspec": {
      "display_name": "torch",
      "language": "python",
      "name": "python3"
    },
    "language_info": {
      "codemirror_mode": {
        "name": "ipython",
        "version": 3
      },
      "file_extension": ".py",
      "mimetype": "text/x-python",
      "name": "python",
      "nbconvert_exporter": "python",
      "pygments_lexer": "ipython3",
      "version": "3.9.16"
    },
    "colab": {
      "provenance": []
    }
  },
  "nbformat": 4,
  "nbformat_minor": 5
}